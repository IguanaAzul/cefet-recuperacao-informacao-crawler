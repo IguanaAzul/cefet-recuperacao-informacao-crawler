{
 "cells": [
  {
   "cell_type": "code",
   "execution_count": null,
   "id": "deb67bbf",
   "metadata": {},
   "outputs": [],
   "source": [
    "from urllib.parse import urlparse, urljoin, ParseResult\n",
    "from crawler import PageFetcher, Scheduler\n",
    "from collections import OrderedDict\n",
    "from crawler.domain import Domain\n",
    "import seaborn as sns\n",
    "from matplotlib import pyplot as plt\n",
    "import time\n",
    "import numpy as np\n",
    "from tqdm import tqdm\n",
    "import pandas as pd"
   ]
  },
  {
   "cell_type": "code",
   "execution_count": null,
   "id": "ee8135f4",
   "metadata": {},
   "outputs": [],
   "source": [
    "seeds = [\"https://5e.tools/\", \"https://www.dmsguild.com/\", \"https://www.dndbeyond.com/\", \"https://hitpointpress.com/\", \"https://ghostfiregaming.com/\", \"https://www.mercadorpg.com.br/\"]"
   ]
  },
  {
   "cell_type": "code",
   "execution_count": null,
   "id": "0f55ed98",
   "metadata": {
    "scrolled": true
   },
   "outputs": [],
   "source": [
    "start_time = time.time()\n",
    "scheduler = Scheduler(\"batata-bot\", page_limit=1e6, depth_limit=30, arr_urls_seeds=[urlparse(seed) for seed in seeds])\n",
    "n_threads = 8\n",
    "threads = list()\n",
    "for t in range(n_threads):\n",
    "    pf = PageFetcher(scheduler)\n",
    "    pf.start()\n",
    "    threads.append(pf)\n",
    "for thread in threads:\n",
    "    thread.join()\n",
    "new_time = time.time()\n",
    "total_time = new_time - start_time\n",
    "print(f\"{total_time} segundos = {total_time / 60} minutos\")"
   ]
  }
 ],
 "metadata": {
  "kernelspec": {
   "display_name": "Python 3 (ipykernel)",
   "language": "python",
   "name": "python3"
  },
  "language_info": {
   "codemirror_mode": {
    "name": "ipython",
    "version": 3
   },
   "file_extension": ".py",
   "mimetype": "text/x-python",
   "name": "python",
   "nbconvert_exporter": "python",
   "pygments_lexer": "ipython3",
   "version": "3.7.13"
  }
 },
 "nbformat": 4,
 "nbformat_minor": 5
}
