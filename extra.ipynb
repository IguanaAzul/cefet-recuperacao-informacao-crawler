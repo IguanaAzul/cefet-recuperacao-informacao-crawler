{
 "cells": [
  {
   "cell_type": "code",
   "execution_count": null,
   "id": "97b5ccee",
   "metadata": {},
   "outputs": [],
   "source": [
    "from urllib.parse import urlparse, urljoin, ParseResult\n",
    "from crawler import PageFetcher, Scheduler\n",
    "from collections import OrderedDict\n",
    "from crawler.domain import Domain\n",
    "import seaborn as sns\n",
    "from matplotlib import pyplot as plt\n",
    "import time\n",
    "import numpy as np\n",
    "from tqdm import tqdm"
   ]
  },
  {
   "cell_type": "code",
   "execution_count": null,
   "id": "e79aac54",
   "metadata": {},
   "outputs": [],
   "source": [
    "t = time.time()\n",
    "contents = list()\n",
    "seed = \"\"\n",
    "scheduler = Scheduler(\"batata-bot\", page_limit=100, depth_limit=6, arr_urls_seeds=[urlparse(seed)])\n",
    "n_threads = 8 # Alterar\n",
    "threads = list()\n",
    "for t in range(n_threads):\n",
    "    pf = PageFetcher(scheduler)\n",
    "    pf.start()\n",
    "    threads.append(pf)\n",
    "for thread in threads:\n",
    "    thread.join()\n",
    "t -= time.time()\n",
    "results.append({\"study\": study, \"seed\": seed, \"time\": time})"
   ]
  }
 ],
 "metadata": {
  "kernelspec": {
   "display_name": "Python 3 (ipykernel)",
   "language": "python",
   "name": "python3"
  },
  "language_info": {
   "codemirror_mode": {
    "name": "ipython",
    "version": 3
   },
   "file_extension": ".py",
   "mimetype": "text/x-python",
   "name": "python",
   "nbconvert_exporter": "python",
   "pygments_lexer": "ipython3",
   "version": "3.7.13"
  }
 },
 "nbformat": 4,
 "nbformat_minor": 5
}
