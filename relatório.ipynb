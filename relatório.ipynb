{
 "cells": [
  {
   "cell_type": "code",
   "execution_count": 1,
   "id": "deb67bbf",
   "metadata": {},
   "outputs": [],
   "source": [
    "from urllib.parse import urlparse, urljoin, ParseResult\n",
    "from crawler import PageFetcher, Scheduler\n",
    "from collections import OrderedDict\n",
    "from crawler.domain import Domain\n",
    "import seaborn as sns\n",
    "from matplotlib import pyplot as plt\n",
    "import time\n",
    "import numpy as np\n",
    "from tqdm import tqdm\n",
    "import pandas as pd"
   ]
  },
  {
   "cell_type": "code",
   "execution_count": 2,
   "id": "ee8135f4",
   "metadata": {},
   "outputs": [],
   "source": [
    "seeds = [\"http://www.terra.com.br/\", \"https://www.uol.com.br/\", \"https://www.bbc.com/\"]"
   ]
  },
  {
   "cell_type": "code",
   "execution_count": 3,
   "id": "dedf07ea",
   "metadata": {},
   "outputs": [],
   "source": [
    "studies = list()\n",
    "results = list()"
   ]
  },
  {
   "cell_type": "code",
   "execution_count": 4,
   "id": "326136a4",
   "metadata": {},
   "outputs": [],
   "source": [
    "n_threads = list(np.arange(1, 20, step=5)) + list(np.arange(30, 100, step=20))\n",
    "for n in n_threads:\n",
    "    studies.append({\"n_threads\": n})"
   ]
  },
  {
   "cell_type": "code",
   "execution_count": 5,
   "id": "0f55ed98",
   "metadata": {
    "scrolled": false
   },
   "outputs": [
    {
     "name": "stderr",
     "output_type": "stream",
     "text": [
      "\r",
      "  0%|                                                     | 0/8 [00:00<?, ?it/s]"
     ]
    },
    {
     "name": "stdout",
     "output_type": "stream",
     "text": [
      "start_time = 1652268269.2826777\n",
      "A url 'https://clicklogger.rm.uol.com.br/?prd=32&grp=src:210;chn:0;creative:barrauol;thm:barrauol-pagseguro&msr=Cliques%20de%20Origem:1&oper=11&redir=https://pagseguro.uol.com.br/' não foi coletada, a seguinte exceção foi lançada:\n",
      "<class 'UnicodeDecodeError'>: 'utf-8' codec can't decode byte 0x8b in position 1: invalid start byte\n"
     ]
    },
    {
     "name": "stderr",
     "output_type": "stream",
     "text": [
      "\r",
      " 12%|█████▋                                       | 1/8 [00:58<06:49, 58.47s/it]"
     ]
    },
    {
     "name": "stdout",
     "output_type": "stream",
     "text": [
      "new_time = 1652268327.7565205\n",
      "total_time = 58.47384285926819\n",
      "58.47384285926819 segundos = 0.9745640476544698 minutos\n",
      "start_time = 1652268327.7585766\n",
      "A url 'https://clicklogger.rm.uol.com.br/?prd=32&grp=src:210;chn:0;creative:barrauol;thm:barrauol-pagseguro&msr=Cliques%20de%20Origem:1&oper=11&redir=https://pagseguro.uol.com.br/' não foi coletada, a seguinte exceção foi lançada:\n",
      "<class 'UnicodeDecodeError'>: 'utf-8' codec can't decode byte 0x8b in position 1: invalid start byte\n",
      "A url 'https://pagbank.onelink.me/7YaT?pid=midia-interna&c=20210903_uol_selo_home_cabeca&af_web_dp=https%3A%2F%2Fpagseguro.uol.com.br%2Fconta-digital%2Frendimento&af_dp=psmyaccount%3A%2F%2Fhome' não foi coletada, a seguinte exceção foi lançada:\n",
      "<class 'UnicodeDecodeError'>: 'utf-8' codec can't decode byte 0x8b in position 1: invalid start byte\n",
      "A url 'https://chatvendas.uol.com.br/ChatWEB/AbrirTelaCriarChat.do?site=5' não foi coletada, a seguinte exceção foi lançada:\n",
      "<class 'UnicodeDecodeError'>: 'utf-8' codec can't decode byte 0xe9 in position 4355: invalid continuation byte\n",
      "A url 'https://www.redetv.uol.com.br/videos/' não foi coletada, a seguinte exceção foi lançada:\n",
      "<class 'UnicodeDecodeError'>: 'utf-8' codec can't decode byte 0xe7 in position 3384: invalid continuation byte\n",
      "A url 'https://aovivo.folha.uol.com.br/mundo/2022/03/31/6113-acompanhe-as-principais-noticias-sobre-a-guerra-da-ucrania.shtml#post416177' não foi coletada, a seguinte exceção foi lançada:\n",
      "<class 'UnicodeDecodeError'>: 'utf-8' codec can't decode byte 0xfa in position 211: invalid start byte\n"
     ]
    },
    {
     "name": "stderr",
     "output_type": "stream",
     "text": [
      "\r",
      " 25%|███████████▎                                 | 2/8 [01:14<03:20, 33.48s/it]"
     ]
    },
    {
     "name": "stdout",
     "output_type": "stream",
     "text": [
      "new_time = 1652268343.7336478\n",
      "total_time = 15.97507119178772\n",
      "15.97507119178772 segundos = 0.26625118652979535 minutos\n",
      "start_time = 1652268343.7347958\n",
      "A url 'https://clicklogger.rm.uol.com.br/?prd=32&grp=src:210;chn:0;creative:barrauol;thm:barrauol-pagseguro&msr=Cliques%20de%20Origem:1&oper=11&redir=https://pagseguro.uol.com.br/' não foi coletada, a seguinte exceção foi lançada:\n",
      "<class 'UnicodeDecodeError'>: 'utf-8' codec can't decode byte 0x8b in position 1: invalid start byte\n",
      "A url 'https://downloads.bbc.co.uk/aboutthebbc/reports/reports/modern-slavery-statement-2021.pdf' não foi coletada, a seguinte exceção foi lançada:\n",
      "<class 'UnicodeDecodeError'>: 'utf-8' codec can't decode byte 0xe2 in position 10: invalid continuation byte\n",
      "A url 'https://pagbank.onelink.me/7YaT?pid=midia-interna&c=20210903_uol_selo_home_cabeca&af_web_dp=https%3A%2F%2Fpagseguro.uol.com.br%2Fconta-digital%2Frendimento&af_dp=psmyaccount%3A%2F%2Fhome' não foi coletada, a seguinte exceção foi lançada:\n",
      "<class 'UnicodeDecodeError'>: 'utf-8' codec can't decode byte 0x8b in position 1: invalid start byte\n",
      "A url 'https://chatvendas.uol.com.br/ChatWEB/AbrirTelaCriarChat.do?site=5' não foi coletada, a seguinte exceção foi lançada:\n",
      "<class 'UnicodeDecodeError'>: 'utf-8' codec can't decode byte 0xe9 in position 4355: invalid continuation byte\n",
      "A url 'https://www.redetv.uol.com.br/videos/' não foi coletada, a seguinte exceção foi lançada:\n",
      "<class 'UnicodeDecodeError'>: 'utf-8' codec can't decode byte 0xe7 in position 3384: invalid continuation byte\n",
      "A url 'https://aovivo.folha.uol.com.br/mundo/2022/03/31/6113-acompanhe-as-principais-noticias-sobre-a-guerra-da-ucrania.shtml#post416177' não foi coletada, a seguinte exceção foi lançada:\n",
      "<class 'UnicodeDecodeError'>: 'utf-8' codec can't decode byte 0xfa in position 211: invalid start byte\n",
      "A url 'https://www.redetv.uol.com.br/' não foi coletada, a seguinte exceção foi lançada:\n",
      "<class 'UnicodeDecodeError'>: 'utf-8' codec can't decode byte 0xea in position 79: invalid continuation byte\n"
     ]
    },
    {
     "name": "stderr",
     "output_type": "stream",
     "text": [
      "\r",
      " 38%|████████████████▉                            | 3/8 [01:28<02:02, 24.43s/it]"
     ]
    },
    {
     "name": "stdout",
     "output_type": "stream",
     "text": [
      "new_time = 1652268357.4001877\n",
      "total_time = 13.66539192199707\n",
      "13.66539192199707 segundos = 0.2277565320332845 minutos\n",
      "start_time = 1652268357.4017775\n",
      "A url 'https://downloads.bbc.co.uk/aboutthebbc/reports/reports/modern-slavery-statement-2021.pdf' não foi coletada, a seguinte exceção foi lançada:\n",
      "<class 'UnicodeDecodeError'>: 'utf-8' codec can't decode byte 0xe2 in position 10: invalid continuation byte\n",
      "A url 'https://clicklogger.rm.uol.com.br/?prd=32&grp=src:210;chn:0;creative:barrauol;thm:barrauol-pagseguro&msr=Cliques%20de%20Origem:1&oper=11&redir=https://pagseguro.uol.com.br/' não foi coletada, a seguinte exceção foi lançada:\n",
      "<class 'UnicodeDecodeError'>: 'utf-8' codec can't decode byte 0x8b in position 1: invalid start byte\n",
      "A url 'https://pagbank.onelink.me/7YaT?pid=midia-interna&c=20210903_uol_selo_home_cabeca&af_web_dp=https%3A%2F%2Fpagseguro.uol.com.br%2Fconta-digital%2Frendimento&af_dp=psmyaccount%3A%2F%2Fhome' não foi coletada, a seguinte exceção foi lançada:\n",
      "<class 'UnicodeDecodeError'>: 'utf-8' codec can't decode byte 0x8b in position 1: invalid start byte\n",
      "A url 'https://chatvendas.uol.com.br/ChatWEB/AbrirTelaCriarChat.do?site=5' não foi coletada, a seguinte exceção foi lançada:\n",
      "<class 'UnicodeDecodeError'>: 'utf-8' codec can't decode byte 0xe9 in position 4355: invalid continuation byte\n",
      "A url 'https://www.redetv.uol.com.br/videos/' não foi coletada, a seguinte exceção foi lançada:\n",
      "<class 'UnicodeDecodeError'>: 'utf-8' codec can't decode byte 0xe7 in position 3384: invalid continuation byte\n",
      "A url 'https://aovivo.folha.uol.com.br/mundo/2022/03/31/6113-acompanhe-as-principais-noticias-sobre-a-guerra-da-ucrania.shtml#post416177' não foi coletada, a seguinte exceção foi lançada:\n",
      "<class 'UnicodeDecodeError'>: 'utf-8' codec can't decode byte 0xfa in position 211: invalid start byte\n",
      "A url 'https://denuncia.uol.com.br/' não foi coletada, a seguinte exceção foi lançada:\n",
      "<class 'urllib.error.URLError'>: <urlopen error [SSL: CERTIFICATE_VERIFY_FAILED] certificate verify failed: unable to get local issuer certificate (_ssl.c:1091)>\n"
     ]
    },
    {
     "name": "stderr",
     "output_type": "stream",
     "text": [
      "\r",
      " 50%|██████████████████████▌                      | 4/8 [01:42<01:22, 20.56s/it]"
     ]
    },
    {
     "name": "stdout",
     "output_type": "stream",
     "text": [
      "new_time = 1652268372.0376604\n",
      "total_time = 14.63588285446167\n",
      "14.63588285446167 segundos = 0.2439313809076945 minutos\n",
      "start_time = 1652268372.0392492\n",
      "A url 'javascript:;' não foi coletada, a seguinte exceção foi lançada:\n",
      "<class 'urllib.error.URLError'>: <urlopen error unknown url type: javascript>\n",
      "A url 'whatsapp://send?text=%2AAo+vivo+atriz+admite+para+o+atual+marido+que+ainda+sente+falta+do+ex%2A%3A+https%3A%2F%2Fepipoca.com.br%2Fatriz-admite-para-o-atual-marido-que-ainda-sente-falta-do-ex%2F%3Futm_source%3Dwhatsapp%26utm_medium%3Dshare-engagement' não foi coletada, a seguinte exceção foi lançada:\n",
      "<class 'urllib.error.URLError'>: <urlopen error unknown url type: whatsapp>\n",
      "A url 'https://assinecarta.com.br/?Site_txt=site_carta&Origem_txt=materias&Formato_txt=Senado aprova aumento de gastos do governo com propaganda em ano eleitoral&Banner_txt=&Versao_txt=&utm_source=site_carta&utm_medium=materias&utm_campaign=Senado aprova aumento de gastos do governo com propaganda em ano eleitoral&utm_content=&utm_term=' não foi coletada, a seguinte exceção foi lançada:\n",
      "<class 'http.client.InvalidURL'>: URL can't contain control characters. '/?Site_txt=site_carta&Origem_txt=materias&Formato_txt=Senado aprova aumento de gastos do governo com propaganda em ano eleitoral&Banner_txt=&Versao_txt=&utm_source=site_carta&utm_medium=materias&utm_campaign=Senado aprova aumento de gastos do governo com propaganda em ano eleitoral&utm_content=&utm_term=' (found at least ' ')\n",
      "A url 'https://okngroup.com.br' não foi coletada, a seguinte exceção foi lançada:\n",
      "<class 'urllib.error.URLError'>: <urlopen error [SSL: CERTIFICATE_VERIFY_FAILED] certificate verify failed: unable to get local issuer certificate (_ssl.c:1091)>\n",
      "A url 'http://downloads.bbc.co.uk/aboutthebbc/reports/pdf/bbcmsa2020.pdf' não foi coletada, a seguinte exceção foi lançada:\n",
      "<class 'UnicodeDecodeError'>: 'utf-8' codec can't decode byte 0xe2 in position 10: invalid continuation byte\n",
      "A url 'https://downloads.bbc.co.uk/aboutthebbc/reports/reports/modern-slavery-statement-2021.pdf' não foi coletada, a seguinte exceção foi lançada:\n",
      "<class 'UnicodeDecodeError'>: 'utf-8' codec can't decode byte 0xe2 in position 10: invalid continuation byte\n",
      "A url 'https://www.vidav.com.br/?utm_source=terra&utm_medium=espaco-fixo&utm_campaign=vida-v_home&utm_content=capa_terraempresas&utm_term=pos-14' não foi coletada, a seguinte exceção foi lançada:\n",
      "<class 'urllib.error.URLError'>: <urlopen error [SSL: CERTIFICATE_VERIFY_FAILED] certificate verify failed: unable to get local issuer certificate (_ssl.c:1091)>\n"
     ]
    },
    {
     "name": "stderr",
     "output_type": "stream",
     "text": [
      "/home/aluno/miniconda3/envs/ri/lib/python3.7/site-packages/bs4/builder/__init__.py:546: XMLParsedAsHTMLWarning: It looks like you're parsing an XML document using an HTML parser. If this really is an HTML document (maybe it's XHTML?), you can ignore or filter this warning. If it's XML, you should know that using an XML parser will be more reliable. To parse this document as XML, make sure you have the lxml package installed, and pass the keyword argument `features=\"xml\"` into the BeautifulSoup constructor.\n",
      "  XMLParsedAsHTMLWarning.MESSAGE, XMLParsedAsHTMLWarning\n"
     ]
    },
    {
     "name": "stdout",
     "output_type": "stream",
     "text": [
      "A url 'https://www.google.com.br/webhp?tab=8w' não foi coletada, a seguinte exceção foi lançada:\n",
      "<class 'UnicodeDecodeError'>: 'utf-8' codec can't decode byte 0xed in position 7261: invalid continuation byte\n",
      "A url 'mailto:atendimento@cartacapital.com.br' não foi coletada, a seguinte exceção foi lançada:\n",
      "<class 'urllib.error.URLError'>: <urlopen error unknown url type: mailto>\n",
      "A url 'tg://resolve?domain=cartacapitaloficial' não foi coletada, a seguinte exceção foi lançada:\n",
      "<class 'urllib.error.URLError'>: <urlopen error unknown url type: tg>\n",
      "A url 'tg://msg_url?url=https%3A%2F%2Fepipoca.com.br%2Fatriz-admite-para-o-atual-marido-que-ainda-sente-falta-do-ex%2F%3Futm_source%3Dtelegram%26utm_medium%3Dshare-engagement&text=Ao%20vivo%20atriz%20admite%20para%20o%20atual%20marido%20que%20ainda%20sente%20falta%20do%20ex' não foi coletada, a seguinte exceção foi lançada:\n",
      "<class 'urllib.error.URLError'>: <urlopen error unknown url type: tg>\n",
      "A url 'https://clicklogger.rm.uol.com.br/?prd=32&grp=src:210;chn:0;creative:barrauol;thm:barrauol-pagseguro&msr=Cliques%20de%20Origem:1&oper=11&redir=https://pagseguro.uol.com.br/' não foi coletada, a seguinte exceção foi lançada:\n",
      "<class 'UnicodeDecodeError'>: 'utf-8' codec can't decode byte 0x8b in position 1: invalid start byte\n",
      "A url 'http://www.google.com.br/imghp?hl=pt-BR&tab=8i' não foi coletada, a seguinte exceção foi lançada:\n",
      "<class 'UnicodeDecodeError'>: 'utf-8' codec can't decode byte 0xed in position 7499: invalid continuation byte\n"
     ]
    },
    {
     "name": "stderr",
     "output_type": "stream",
     "text": [
      "\r",
      " 62%|████████████████████████████▏                | 5/8 [02:21<01:21, 27.29s/it]"
     ]
    },
    {
     "name": "stdout",
     "output_type": "stream",
     "text": [
      "A url 'https://app.adjust.net.in/dyvodl2?redirect=https%3A%2F%2Fapps.apple.com%2Fapp%2Fapple-store%2Fid1056182234' não foi coletada, a seguinte exceção foi lançada:\n",
      "<class 'urllib.error.URLError'>: <urlopen error [Errno -3] Temporary failure in name resolution>\n",
      "new_time = 1652268411.2613864\n",
      "total_time = 39.222137212753296\n",
      "39.222137212753296 segundos = 0.6537022868792216 minutos\n",
      "start_time = 1652268411.2629027\n",
      "A url 'whatsapp://send?text=%2AAo+vivo+atriz+admite+para+o+atual+marido+que+ainda+sente+falta+do+ex%2A%3A+https%3A%2F%2Fepipoca.com.br%2Fatriz-admite-para-o-atual-marido-que-ainda-sente-falta-do-ex%2F%3Futm_source%3Dwhatsapp%26utm_medium%3Dshare-engagement' não foi coletada, a seguinte exceção foi lançada:\n",
      "<class 'urllib.error.URLError'>: <urlopen error unknown url type: whatsapp>\n",
      "A url 'https://assinecarta.com.br/?Site_txt=site_carta&Origem_txt=materias&Formato_txt=Senado aprova aumento de gastos do governo com propaganda em ano eleitoral&Banner_txt=&Versao_txt=&utm_source=site_carta&utm_medium=materias&utm_campaign=Senado aprova aumento de gastos do governo com propaganda em ano eleitoral&utm_content=&utm_term=' não foi coletada, a seguinte exceção foi lançada:\n",
      "<class 'http.client.InvalidURL'>: URL can't contain control characters. '/?Site_txt=site_carta&Origem_txt=materias&Formato_txt=Senado aprova aumento de gastos do governo com propaganda em ano eleitoral&Banner_txt=&Versao_txt=&utm_source=site_carta&utm_medium=materias&utm_campaign=Senado aprova aumento de gastos do governo com propaganda em ano eleitoral&utm_content=&utm_term=' (found at least ' ')\n",
      "A url 'javascript:;' não foi coletada, a seguinte exceção foi lançada:\n",
      "<class 'urllib.error.URLError'>: <urlopen error unknown url type: javascript>\n",
      "A url 'https://www.vidav.com.br/?utm_source=terra&utm_medium=espaco-fixo&utm_campaign=vida-v_home&utm_content=capa_terraempresas&utm_term=pos-14' não foi coletada, a seguinte exceção foi lançada:\n",
      "<class 'urllib.error.URLError'>: <urlopen error [SSL: CERTIFICATE_VERIFY_FAILED] certificate verify failed: unable to get local issuer certificate (_ssl.c:1091)>\n",
      "A url 'https://okngroup.com.br' não foi coletada, a seguinte exceção foi lançada:\n",
      "<class 'urllib.error.URLError'>: <urlopen error [SSL: CERTIFICATE_VERIFY_FAILED] certificate verify failed: unable to get local issuer certificate (_ssl.c:1091)>\n",
      "A url 'tg://msg_url?url=https%3A%2F%2Fepipoca.com.br%2Fatriz-admite-para-o-atual-marido-que-ainda-sente-falta-do-ex%2F%3Futm_source%3Dtelegram%26utm_medium%3Dshare-engagement&text=Ao%20vivo%20atriz%20admite%20para%20o%20atual%20marido%20que%20ainda%20sente%20falta%20do%20ex' não foi coletada, a seguinte exceção foi lançada:\n",
      "<class 'urllib.error.URLError'>: <urlopen error unknown url type: tg>\n",
      "A url 'tg://resolve?domain=cartacapitaloficial' não foi coletada, a seguinte exceção foi lançada:\n",
      "<class 'urllib.error.URLError'>: <urlopen error unknown url type: tg>\n",
      "A url 'http://downloads.bbc.co.uk/aboutthebbc/reports/pdf/bbcmsa2020.pdf' não foi coletada, a seguinte exceção foi lançada:\n",
      "<class 'UnicodeDecodeError'>: 'utf-8' codec can't decode byte 0xe2 in position 10: invalid continuation byte\n",
      "A url 'https://clicklogger.rm.uol.com.br/?prd=32&grp=src:210;chn:0;creative:barrauol;thm:barrauol-pagseguro&msr=Cliques%20de%20Origem:1&oper=11&redir=https://pagseguro.uol.com.br/' não foi coletada, a seguinte exceção foi lançada:\n",
      "<class 'UnicodeDecodeError'>: 'utf-8' codec can't decode byte 0x8b in position 1: invalid start byte\n",
      "A url 'https://chatvendas.uol.com.br/ChatWEB/AbrirTelaCriarChat.do?site=5' não foi coletada, a seguinte exceção foi lançada:\n",
      "<class 'UnicodeDecodeError'>: 'utf-8' codec can't decode byte 0xe9 in position 4355: invalid continuation byte\n",
      "A url 'https://www.redetv.uol.com.br/videos/' não foi coletada, a seguinte exceção foi lançada:\n",
      "<class 'UnicodeDecodeError'>: 'utf-8' codec can't decode byte 0xe7 in position 3384: invalid continuation byte\n",
      "A url 'https://aovivo.folha.uol.com.br/mundo/2022/03/31/6113-acompanhe-as-principais-noticias-sobre-a-guerra-da-ucrania.shtml#post416177' não foi coletada, a seguinte exceção foi lançada:\n",
      "<class 'UnicodeDecodeError'>: 'utf-8' codec can't decode byte 0xfa in position 211: invalid start byte\n"
     ]
    },
    {
     "name": "stderr",
     "output_type": "stream",
     "text": [
      "\r",
      " 75%|█████████████████████████████████▊           | 6/8 [02:39<00:48, 24.00s/it]"
     ]
    },
    {
     "name": "stdout",
     "output_type": "stream",
     "text": [
      "new_time = 1652268428.8753176\n",
      "total_time = 17.612414836883545\n",
      "17.612414836883545 segundos = 0.29354024728139244 minutos\n",
      "start_time = 1652268428.8768737\n",
      "A url 'https://downloads.bbc.co.uk/aboutthebbc/reports/reports/modern-slavery-statement-2021.pdf' não foi coletada, a seguinte exceção foi lançada:\n",
      "<class 'UnicodeDecodeError'>: 'utf-8' codec can't decode byte 0xe2 in position 10: invalid continuation byte\n",
      "A url 'http://downloads.bbc.co.uk/aboutthebbc/reports/pdf/bbcmsa2020.pdf' não foi coletada, a seguinte exceção foi lançada:\n",
      "<class 'UnicodeDecodeError'>: 'utf-8' codec can't decode byte 0xe2 in position 10: invalid continuation byte\n",
      "A url 'https://www.uolhost.uol.com.br/uol-cloud-computing.html?utm_medium=uol.com.br&utm_source=interna&utm_campaign=rodapé_uol&utm_content=link_fixo&utm_term=cloud_computing' não foi coletada, a seguinte exceção foi lançada:\n",
      "<class 'UnicodeEncodeError'>: 'ascii' codec can't encode character '\\xe9' in position 89: ordinal not in range(128)\n",
      "A url 'https://uolhost.uol.com.br/?utm_medium=uol.com.br&utm_source=interna&utm_campaign=rodapé_uol&utm_content=link_fixo&utm_term=para_o_seu_negocio' não foi coletada, a seguinte exceção foi lançada:\n",
      "<class 'UnicodeEncodeError'>: 'ascii' codec can't encode character '\\xe9' in position 65: ordinal not in range(128)\n",
      "A url 'https://chatvendas.uol.com.br/ChatWEB/AbrirTelaCriarChat.do?site=5' não foi coletada, a seguinte exceção foi lançada:\n",
      "<class 'UnicodeDecodeError'>: 'utf-8' codec can't decode byte 0xe9 in position 4355: invalid continuation byte\n",
      "A url 'https://denuncia.uol.com.br/' não foi coletada, a seguinte exceção foi lançada:\n",
      "<class 'urllib.error.URLError'>: <urlopen error [SSL: CERTIFICATE_VERIFY_FAILED] certificate verify failed: unable to get local issuer certificate (_ssl.c:1091)>\n",
      "A url 'https://clicklogger.rm.uol.com.br/?prd=32&grp=src:210;chn:0;creative:barrauol;thm:barrauol-pagseguro&msr=Cliques%20de%20Origem:1&oper=11&redir=https://pagseguro.uol.com.br/' não foi coletada, a seguinte exceção foi lançada:\n",
      "<class 'UnicodeDecodeError'>: 'utf-8' codec can't decode byte 0x8b in position 1: invalid start byte\n",
      "A url 'whatsapp://send?text=%2AAo+vivo+atriz+admite+para+o+atual+marido+que+ainda+sente+falta+do+ex%2A%3A+https%3A%2F%2Fepipoca.com.br%2Fatriz-admite-para-o-atual-marido-que-ainda-sente-falta-do-ex%2F%3Futm_source%3Dwhatsapp%26utm_medium%3Dshare-engagement' não foi coletada, a seguinte exceção foi lançada:\n",
      "<class 'urllib.error.URLError'>: <urlopen error unknown url type: whatsapp>\n",
      "A url 'https://aovivo.folha.uol.com.br/mundo/2022/03/31/6113-acompanhe-as-principais-noticias-sobre-a-guerra-da-ucrania.shtml#post416177' não foi coletada, a seguinte exceção foi lançada:\n",
      "<class 'UnicodeDecodeError'>: 'utf-8' codec can't decode byte 0xfa in position 211: invalid start byte\n",
      "A url 'https://pagbank.onelink.me/7YaT?pid=midia-interna&c=20210903_uol_selo_home_cabeca&af_web_dp=https%3A%2F%2Fpagseguro.uol.com.br%2Fconta-digital%2Frendimento&af_dp=psmyaccount%3A%2F%2Fhome' não foi coletada, a seguinte exceção foi lançada:\n",
      "<class 'UnicodeDecodeError'>: 'utf-8' codec can't decode byte 0x8b in position 1: invalid start byte\n",
      "A url 'https://www.redetv.uol.com.br/videos/' não foi coletada, a seguinte exceção foi lançada:\n",
      "<class 'UnicodeDecodeError'>: 'utf-8' codec can't decode byte 0xe7 in position 3384: invalid continuation byte\n",
      "A url 'javascript:;' não foi coletada, a seguinte exceção foi lançada:\n",
      "<class 'urllib.error.URLError'>: <urlopen error unknown url type: javascript>\n",
      "A url 'https://assinecarta.com.br/?Site_txt=site_carta&Origem_txt=materias&Formato_txt=Senado aprova aumento de gastos do governo com propaganda em ano eleitoral&Banner_txt=&Versao_txt=&utm_source=site_carta&utm_medium=materias&utm_campaign=Senado aprova aumento de gastos do governo com propaganda em ano eleitoral&utm_content=&utm_term=' não foi coletada, a seguinte exceção foi lançada:\n",
      "<class 'http.client.InvalidURL'>: URL can't contain control characters. '/?Site_txt=site_carta&Origem_txt=materias&Formato_txt=Senado aprova aumento de gastos do governo com propaganda em ano eleitoral&Banner_txt=&Versao_txt=&utm_source=site_carta&utm_medium=materias&utm_campaign=Senado aprova aumento de gastos do governo com propaganda em ano eleitoral&utm_content=&utm_term=' (found at least ' ')\n",
      "A url 'https://www.vidav.com.br/?utm_source=terra&utm_medium=espaco-fixo&utm_campaign=vida-v_home&utm_content=capa_terraempresas&utm_term=pos-14' não foi coletada, a seguinte exceção foi lançada:\n",
      "<class 'urllib.error.URLError'>: <urlopen error [SSL: CERTIFICATE_VERIFY_FAILED] certificate verify failed: unable to get local issuer certificate (_ssl.c:1091)>\n",
      "A url 'https://okngroup.com.br' não foi coletada, a seguinte exceção foi lançada:\n",
      "<class 'urllib.error.URLError'>: <urlopen error [SSL: CERTIFICATE_VERIFY_FAILED] certificate verify failed: unable to get local issuer certificate (_ssl.c:1091)>\n",
      "A url 'tg://msg_url?url=https%3A%2F%2Fepipoca.com.br%2Fatriz-admite-para-o-atual-marido-que-ainda-sente-falta-do-ex%2F%3Futm_source%3Dtelegram%26utm_medium%3Dshare-engagement&text=Ao%20vivo%20atriz%20admite%20para%20o%20atual%20marido%20que%20ainda%20sente%20falta%20do%20ex' não foi coletada, a seguinte exceção foi lançada:\n",
      "<class 'urllib.error.URLError'>: <urlopen error unknown url type: tg>\n",
      "A url 'https://uolhost.uol.com.br/crie-seu-blog.html?utm_medium=uol.com.br&utm_source=interna&utm_campaign=rodapé_uol&utm_content=link_fixo&utm_term=crie_seu_blog' não foi coletada, a seguinte exceção foi lançada:\n",
      "<class 'UnicodeEncodeError'>: 'ascii' codec can't encode character '\\xe9' in position 83: ordinal not in range(128)\n"
     ]
    },
    {
     "name": "stderr",
     "output_type": "stream",
     "text": [
      "\r",
      " 88%|███████████████████████████████████████▍     | 7/8 [03:02<00:23, 23.50s/it]"
     ]
    },
    {
     "name": "stdout",
     "output_type": "stream",
     "text": [
      "new_time = 1652268451.339545\n",
      "total_time = 22.462671279907227\n",
      "22.462671279907227 segundos = 0.37437785466512047 minutos\n",
      "start_time = 1652268451.3408184\n",
      "A url 'https://downloads.bbc.co.uk/aboutthebbc/reports/reports/modern-slavery-statement-2021.pdf' não foi coletada, a seguinte exceção foi lançada:\n",
      "<class 'UnicodeDecodeError'>: 'utf-8' codec can't decode byte 0xe2 in position 10: invalid continuation byte\n",
      "A url 'http://downloads.bbc.co.uk/aboutthebbc/reports/pdf/bbcmsa2020.pdf' não foi coletada, a seguinte exceção foi lançada:\n",
      "<class 'UnicodeDecodeError'>: 'utf-8' codec can't decode byte 0xe2 in position 10: invalid continuation byte\n",
      "A url 'javascript:;' não foi coletada, a seguinte exceção foi lançada:\n",
      "<class 'urllib.error.URLError'>: <urlopen error unknown url type: javascript>\n",
      "A url 'whatsapp://send?text=%2AAo+vivo+atriz+admite+para+o+atual+marido+que+ainda+sente+falta+do+ex%2A%3A+https%3A%2F%2Fepipoca.com.br%2Fatriz-admite-para-o-atual-marido-que-ainda-sente-falta-do-ex%2F%3Futm_source%3Dwhatsapp%26utm_medium%3Dshare-engagement' não foi coletada, a seguinte exceção foi lançada:\n",
      "<class 'urllib.error.URLError'>: <urlopen error unknown url type: whatsapp>\n",
      "A url 'https://assinecarta.com.br/?Site_txt=site_carta&Origem_txt=materias&Formato_txt=Senado aprova aumento de gastos do governo com propaganda em ano eleitoral&Banner_txt=&Versao_txt=&utm_source=site_carta&utm_medium=materias&utm_campaign=Senado aprova aumento de gastos do governo com propaganda em ano eleitoral&utm_content=&utm_term=' não foi coletada, a seguinte exceção foi lançada:\n",
      "<class 'http.client.InvalidURL'>: URL can't contain control characters. '/?Site_txt=site_carta&Origem_txt=materias&Formato_txt=Senado aprova aumento de gastos do governo com propaganda em ano eleitoral&Banner_txt=&Versao_txt=&utm_source=site_carta&utm_medium=materias&utm_campaign=Senado aprova aumento de gastos do governo com propaganda em ano eleitoral&utm_content=&utm_term=' (found at least ' ')\n",
      "A url 'https://www.vidav.com.br/?utm_source=terra&utm_medium=espaco-fixo&utm_campaign=vida-v_home&utm_content=capa_terraempresas&utm_term=pos-14' não foi coletada, a seguinte exceção foi lançada:\n",
      "<class 'urllib.error.URLError'>: <urlopen error [SSL: CERTIFICATE_VERIFY_FAILED] certificate verify failed: unable to get local issuer certificate (_ssl.c:1091)>\n",
      "A url 'https://okngroup.com.br' não foi coletada, a seguinte exceção foi lançada:\n",
      "<class 'urllib.error.URLError'>: <urlopen error [SSL: CERTIFICATE_VERIFY_FAILED] certificate verify failed: unable to get local issuer certificate (_ssl.c:1091)>\n",
      "A url 'https://chatvendas.uol.com.br/ChatWEB/AbrirTelaCriarChat.do?site=5' não foi coletada, a seguinte exceção foi lançada:\n",
      "<class 'UnicodeDecodeError'>: 'utf-8' codec can't decode byte 0xe9 in position 4355: invalid continuation byte\n",
      "A url 'https://clicklogger.rm.uol.com.br/?prd=32&grp=src:210;chn:0;creative:barrauol;thm:barrauol-pagseguro&msr=Cliques%20de%20Origem:1&oper=11&redir=https://pagseguro.uol.com.br/' não foi coletada, a seguinte exceção foi lançada:\n",
      "<class 'UnicodeDecodeError'>: 'utf-8' codec can't decode byte 0x8b in position 1: invalid start byte\n",
      "A url 'https://www.redetv.uol.com.br/videos/' não foi coletada, a seguinte exceção foi lançada:\n",
      "<class 'UnicodeDecodeError'>: 'utf-8' codec can't decode byte 0xe7 in position 3384: invalid continuation byte\n",
      "A url 'https://aovivo.folha.uol.com.br/mundo/2022/03/31/6113-acompanhe-as-principais-noticias-sobre-a-guerra-da-ucrania.shtml#post416177' não foi coletada, a seguinte exceção foi lançada:\n",
      "<class 'UnicodeDecodeError'>: 'utf-8' codec can't decode byte 0xfa in position 211: invalid start byte\n",
      "A url 'https://denuncia.uol.com.br/' não foi coletada, a seguinte exceção foi lançada:\n",
      "<class 'urllib.error.URLError'>: <urlopen error [SSL: CERTIFICATE_VERIFY_FAILED] certificate verify failed: unable to get local issuer certificate (_ssl.c:1091)>\n"
     ]
    },
    {
     "name": "stderr",
     "output_type": "stream",
     "text": [
      "100%|█████████████████████████████████████████████| 8/8 [03:25<00:00, 25.74s/it]"
     ]
    },
    {
     "name": "stdout",
     "output_type": "stream",
     "text": [
      "new_time = 1652268475.1808474\n",
      "total_time = 23.840029001235962\n",
      "23.840029001235962 segundos = 0.39733381668726603 minutos\n"
     ]
    },
    {
     "name": "stderr",
     "output_type": "stream",
     "text": [
      "\n"
     ]
    }
   ],
   "source": [
    "for study in tqdm(studies):\n",
    "    start_time = time.time()\n",
    "    print(f\"start_time = {start_time}\")\n",
    "    scheduler = Scheduler(\"batata-bot\", page_limit=100, depth_limit=6, arr_urls_seeds=[urlparse(seed) for seed in seeds])\n",
    "    n_threads = study[\"n_threads\"]\n",
    "    threads = list()\n",
    "    for t in range(n_threads):\n",
    "        pf = PageFetcher(scheduler)\n",
    "        pf.start()\n",
    "        threads.append(pf)\n",
    "    for thread in threads:\n",
    "        thread.join()\n",
    "    new_time = time.time()\n",
    "    print(f\"new_time = {new_time}\")\n",
    "    total_time = new_time - start_time\n",
    "    print(f\"total_time = {total_time}\")\n",
    "    print(f\"{total_time} segundos = {total_time / 60} minutos\")\n",
    "    results.append({\"n_threads\": n_threads, \"time\": total_time})"
   ]
  },
  {
   "cell_type": "code",
   "execution_count": 6,
   "id": "9680faec",
   "metadata": {},
   "outputs": [
    {
     "data": {
      "text/html": [
       "<div>\n",
       "<style scoped>\n",
       "    .dataframe tbody tr th:only-of-type {\n",
       "        vertical-align: middle;\n",
       "    }\n",
       "\n",
       "    .dataframe tbody tr th {\n",
       "        vertical-align: top;\n",
       "    }\n",
       "\n",
       "    .dataframe thead th {\n",
       "        text-align: right;\n",
       "    }\n",
       "</style>\n",
       "<table border=\"1\" class=\"dataframe\">\n",
       "  <thead>\n",
       "    <tr style=\"text-align: right;\">\n",
       "      <th></th>\n",
       "      <th>n_threads</th>\n",
       "      <th>time</th>\n",
       "    </tr>\n",
       "  </thead>\n",
       "  <tbody>\n",
       "    <tr>\n",
       "      <th>0</th>\n",
       "      <td>1</td>\n",
       "      <td>58.473843</td>\n",
       "    </tr>\n",
       "    <tr>\n",
       "      <th>1</th>\n",
       "      <td>6</td>\n",
       "      <td>15.975071</td>\n",
       "    </tr>\n",
       "    <tr>\n",
       "      <th>2</th>\n",
       "      <td>11</td>\n",
       "      <td>13.665392</td>\n",
       "    </tr>\n",
       "    <tr>\n",
       "      <th>3</th>\n",
       "      <td>16</td>\n",
       "      <td>14.635883</td>\n",
       "    </tr>\n",
       "    <tr>\n",
       "      <th>4</th>\n",
       "      <td>30</td>\n",
       "      <td>39.222137</td>\n",
       "    </tr>\n",
       "    <tr>\n",
       "      <th>5</th>\n",
       "      <td>50</td>\n",
       "      <td>17.612415</td>\n",
       "    </tr>\n",
       "    <tr>\n",
       "      <th>6</th>\n",
       "      <td>70</td>\n",
       "      <td>22.462671</td>\n",
       "    </tr>\n",
       "    <tr>\n",
       "      <th>7</th>\n",
       "      <td>90</td>\n",
       "      <td>23.840029</td>\n",
       "    </tr>\n",
       "  </tbody>\n",
       "</table>\n",
       "</div>"
      ],
      "text/plain": [
       "   n_threads       time\n",
       "0          1  58.473843\n",
       "1          6  15.975071\n",
       "2         11  13.665392\n",
       "3         16  14.635883\n",
       "4         30  39.222137\n",
       "5         50  17.612415\n",
       "6         70  22.462671\n",
       "7         90  23.840029"
      ]
     },
     "execution_count": 6,
     "metadata": {},
     "output_type": "execute_result"
    }
   ],
   "source": [
    "df = pd.DataFrame.from_dict(results)\n",
    "df"
   ]
  },
  {
   "cell_type": "code",
   "execution_count": 8,
   "id": "3ddff396",
   "metadata": {
    "scrolled": true
   },
   "outputs": [],
   "source": [
    "df.to_csv(\"results.csv\")"
   ]
  },
  {
   "cell_type": "code",
   "execution_count": 10,
   "id": "d021f87d",
   "metadata": {},
   "outputs": [
    {
     "data": {
      "text/plain": [
       "<AxesSubplot:xlabel='n_threads'>"
      ]
     },
     "execution_count": 10,
     "metadata": {},
     "output_type": "execute_result"
    },
    {
     "data": {
      "image/png": "[encoded data removed]",
      "text/plain": [
       "<Figure size 432x288 with 1 Axes>"
      ]
     },
     "metadata": {
      "needs_background": "light"
     },
     "output_type": "display_data"
    }
   ],
   "source": [
    "df.plot(x=\"n_threads\", y=\"time\")"
   ]
  }
 ],
 "metadata": {
  "kernelspec": {
   "display_name": "Python 3 (ipykernel)",
   "language": "python",
   "name": "python3"
  },
  "language_info": {
   "codemirror_mode": {
    "name": "ipython",
    "version": 3
   },
   "file_extension": ".py",
   "mimetype": "text/x-python",
   "name": "python",
   "nbconvert_exporter": "python",
   "pygments_lexer": "ipython3",
   "version": "3.7.13"
  }
 },
 "nbformat": 4,
 "nbformat_minor": 5
}
