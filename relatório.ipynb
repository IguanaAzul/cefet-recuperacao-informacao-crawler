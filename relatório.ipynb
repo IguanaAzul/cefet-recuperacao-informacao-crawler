{
 "cells": [
  {
   "cell_type": "code",
   "execution_count": 1,
   "id": "deb67bbf",
   "metadata": {},
   "outputs": [],
   "source": [
    "from urllib.parse import urlparse, urljoin, ParseResult\n",
    "from crawler import PageFetcher, Scheduler\n",
    "from collections import OrderedDict\n",
    "from crawler.domain import Domain\n",
    "import seaborn as sns\n",
    "from matplotlib import pyplot as plt\n",
    "import time\n",
    "import numpy as np\n",
    "from tqdm import tqdm\n",
    "import pandas as pd"
   ]
  },
  {
   "cell_type": "code",
   "execution_count": 2,
   "id": "ee8135f4",
   "metadata": {},
   "outputs": [],
   "source": [
    "seeds = [\"http://www.terra.com.br/\", \"https://www.uol.com.br/\", \"https://www.bbc.com/\"]"
   ]
  },
  {
   "cell_type": "code",
   "execution_count": 3,
   "id": "dedf07ea",
   "metadata": {},
   "outputs": [],
   "source": [
    "studies = list()\n",
    "results = list()"
   ]
  },
  {
   "cell_type": "code",
   "execution_count": 4,
   "id": "326136a4",
   "metadata": {},
   "outputs": [],
   "source": [
    "n_threads = list(np.arange(1, 20, step=5)) + list(np.arange(30, 100, step=20))\n",
    "for n in n_threads:\n",
    "    studies.append({\"n_threads\": n})"
   ]
  },
  {
   "cell_type": "code",
   "execution_count": null,
   "id": "0f55ed98",
   "metadata": {
    "scrolled": true
   },
   "outputs": [
    {
     "name": "stderr",
     "output_type": "stream",
     "text": [
      "\r",
      "  0%|                                                     | 0/8 [00:00<?, ?it/s]"
     ]
    }
   ],
   "source": [
    "for study in tqdm(studies):\n",
    "    t = time.time()\n",
    "    scheduler = Scheduler(\"batata-bot\", page_limit=100, depth_limit=6, arr_urls_seeds=[urlparse(seed) for seed in seeds])\n",
    "    n_threads = study[\"n_threads\"]\n",
    "    threads = list()\n",
    "    for t in range(n_threads):\n",
    "        pf = PageFetcher(scheduler)\n",
    "        pf.start()\n",
    "        threads.append(pf)\n",
    "    for thread in threads:\n",
    "        thread.join()\n",
    "    t = time.time() - t\n",
    "    print(f\"{t} segundos = f{t / 60} minutos\")\n",
    "    results.append({\"study\": study, \"seed\": seed, \"time\": t})"
   ]
  },
  {
   "cell_type": "code",
   "execution_count": null,
   "id": "a40c9644",
   "metadata": {},
   "outputs": [],
   "source": [
    "df = pd.DataFrame.from_dict(results)\n",
    "df"
   ]
  },
  {
   "cell_type": "code",
   "execution_count": null,
   "id": "e60889d3",
   "metadata": {},
   "outputs": [],
   "source": [
    "df.to_parquet(\"results.parquet\")"
   ]
  }
 ],
 "metadata": {
  "kernelspec": {
   "display_name": "Python 3 (ipykernel)",
   "language": "python",
   "name": "python3"
  },
  "language_info": {
   "codemirror_mode": {
    "name": "ipython",
    "version": 3
   },
   "file_extension": ".py",
   "mimetype": "text/x-python",
   "name": "python",
   "nbconvert_exporter": "python",
   "pygments_lexer": "ipython3",
   "version": "3.7.13"
  }
 },
 "nbformat": 4,
 "nbformat_minor": 5
}
