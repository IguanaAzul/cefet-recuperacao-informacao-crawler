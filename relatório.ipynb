{
 "cells": [
  {
   "cell_type": "code",
   "execution_count": 1,
   "id": "deb67bbf",
   "metadata": {},
   "outputs": [],
   "source": [
    "from urllib.parse import urlparse, urljoin, ParseResult\n",
    "from crawler import PageFetcher, Scheduler\n",
    "from collections import OrderedDict\n",
    "from crawler.domain import Domain\n",
    "import seaborn as sns\n",
    "from matplotlib import pyplot as plt\n",
    "import time\n",
    "import numpy as np\n",
    "from tqdm import tqdm\n",
    "import pandas as pd"
   ]
  },
  {
   "cell_type": "code",
   "execution_count": 2,
   "id": "ee8135f4",
   "metadata": {},
   "outputs": [],
   "source": [
    "seeds = [\"http://www.terra.com.br/\", \"https://www.uol.com.br/\", \"https://www.bbc.com/\"]"
   ]
  },
  {
   "cell_type": "code",
   "execution_count": 3,
   "id": "dedf07ea",
   "metadata": {},
   "outputs": [],
   "source": [
    "studies = list()\n",
    "results = list()"
   ]
  },
  {
   "cell_type": "code",
   "execution_count": 4,
   "id": "326136a4",
   "metadata": {},
   "outputs": [],
   "source": [
    "n_threads = list(np.arange(1, 20, step=5)) + list(np.arange(30, 100, step=20))\n",
    "for n in n_threads:\n",
    "    studies.append({\"n_threads\": n})"
   ]
  },
  {
   "cell_type": "code",
   "execution_count": null,
   "id": "0f55ed98",
   "metadata": {
    "scrolled": false
   },
   "outputs": [
    {
     "name": "stderr",
     "output_type": "stream",
     "text": [
      "\r",
      "  0%|                                                     | 0/8 [00:00<?, ?it/s]"
     ]
    },
    {
     "name": "stdout",
     "output_type": "stream",
     "text": [
      "1652268028.5540266\n"
     ]
    },
    {
     "name": "stderr",
     "output_type": "stream",
     "text": [
      "\r",
      " 12%|█████▋                                       | 1/8 [01:23<09:45, 83.70s/it]"
     ]
    },
    {
     "name": "stdout",
     "output_type": "stream",
     "text": [
      "1652268112.24984\n",
      "1652268112.2499344 segundos = 27537801.870832242 minutos\n",
      "1652268112.2517712\n",
      "A url 'https://clicklogger.rm.uol.com.br/?prd=32&grp=src:210;chn:0;creative:barrauol;thm:barrauol-pagseguro&msr=Cliques%20de%20Origem:1&oper=11&redir=https://pagseguro.uol.com.br/' não foi coletada, a seguinte exceção foi lançada:\n",
      "<class 'UnicodeDecodeError'>: 'utf-8' codec can't decode byte 0x8b in position 1: invalid start byte\n",
      "A url 'https://chatvendas.uol.com.br/ChatWEB/AbrirTelaCriarChat.do?site=5' não foi coletada, a seguinte exceção foi lançada:\n",
      "<class 'UnicodeDecodeError'>: 'utf-8' codec can't decode byte 0xe9 in position 4355: invalid continuation byte\n"
     ]
    },
    {
     "name": "stderr",
     "output_type": "stream",
     "text": [
      "\r",
      " 25%|███████████▎                                 | 2/8 [01:44<04:40, 46.67s/it]"
     ]
    },
    {
     "name": "stdout",
     "output_type": "stream",
     "text": [
      "1652268133.007216\n",
      "1652268128.0073297 segundos = 27537802.133455496 minutos\n",
      "1652268133.0087738\n",
      "A url 'https://clicklogger.rm.uol.com.br/?prd=32&grp=src:210;chn:0;creative:barrauol;thm:barrauol-pagseguro&msr=Cliques%20de%20Origem:1&oper=11&redir=https://pagseguro.uol.com.br/' não foi coletada, a seguinte exceção foi lançada:\n",
      "<class 'UnicodeDecodeError'>: 'utf-8' codec can't decode byte 0x8b in position 1: invalid start byte\n",
      "A url 'https://pagbank.onelink.me/7YaT?pid=midia-interna&c=20210903_uol_selo_home_cabeca&af_web_dp=https%3A%2F%2Fpagseguro.uol.com.br%2Fconta-digital%2Frendimento&af_dp=psmyaccount%3A%2F%2Fhome' não foi coletada, a seguinte exceção foi lançada:\n",
      "<class 'UnicodeDecodeError'>: 'utf-8' codec can't decode byte 0x8b in position 1: invalid start byte\n",
      "A url 'https://chatvendas.uol.com.br/ChatWEB/AbrirTelaCriarChat.do?site=5' não foi coletada, a seguinte exceção foi lançada:\n",
      "<class 'UnicodeDecodeError'>: 'utf-8' codec can't decode byte 0xe9 in position 4355: invalid continuation byte\n",
      "A url 'https://www.redetv.uol.com.br/videos/' não foi coletada, a seguinte exceção foi lançada:\n",
      "<class 'UnicodeDecodeError'>: 'utf-8' codec can't decode byte 0xe7 in position 3384: invalid continuation byte\n",
      "A url 'https://www.redetv.uol.com.br/' não foi coletada, a seguinte exceção foi lançada:\n",
      "<class 'UnicodeDecodeError'>: 'utf-8' codec can't decode byte 0xea in position 79: invalid continuation byte\n",
      "A url 'https://aovivo.folha.uol.com.br/mundo/2022/03/31/6113-acompanhe-as-principais-noticias-sobre-a-guerra-da-ucrania.shtml#post416177' não foi coletada, a seguinte exceção foi lançada:\n",
      "<class 'UnicodeDecodeError'>: 'utf-8' codec can't decode byte 0xfa in position 211: invalid start byte\n"
     ]
    },
    {
     "name": "stderr",
     "output_type": "stream",
     "text": [
      "\r",
      " 38%|████████████████▉                            | 3/8 [02:01<02:44, 32.95s/it]"
     ]
    },
    {
     "name": "stdout",
     "output_type": "stream",
     "text": [
      "1652268149.6184843\n",
      "1652268139.6185985 segundos = 27537802.326976642 minutos\n",
      "1652268149.6200616\n",
      "A url 'https://clicklogger.rm.uol.com.br/?prd=32&grp=src:210;chn:0;creative:barrauol;thm:barrauol-pagseguro&msr=Cliques%20de%20Origem:1&oper=11&redir=https://pagseguro.uol.com.br/' não foi coletada, a seguinte exceção foi lançada:\n",
      "<class 'UnicodeDecodeError'>: 'utf-8' codec can't decode byte 0x8b in position 1: invalid start byte\n",
      "A url 'https://chatvendas.uol.com.br/ChatWEB/AbrirTelaCriarChat.do?site=5' não foi coletada, a seguinte exceção foi lançada:\n",
      "<class 'UnicodeDecodeError'>: 'utf-8' codec can't decode byte 0xe9 in position 4355: invalid continuation byte\n",
      "A url 'https://www.redetv.uol.com.br/videos/' não foi coletada, a seguinte exceção foi lançada:\n",
      "<class 'UnicodeDecodeError'>: 'utf-8' codec can't decode byte 0xe7 in position 3384: invalid continuation byte\n",
      "A url 'https://aovivo.folha.uol.com.br/mundo/2022/03/31/6113-acompanhe-as-principais-noticias-sobre-a-guerra-da-ucrania.shtml#post416177' não foi coletada, a seguinte exceção foi lançada:\n",
      "<class 'UnicodeDecodeError'>: 'utf-8' codec can't decode byte 0xfa in position 211: invalid start byte\n",
      "A url 'https://denuncia.uol.com.br/' não foi coletada, a seguinte exceção foi lançada:\n",
      "<class 'urllib.error.URLError'>: <urlopen error [SSL: CERTIFICATE_VERIFY_FAILED] certificate verify failed: unable to get local issuer certificate (_ssl.c:1091)>\n",
      "A url 'https://uolhost.uol.com.br/?utm_medium=uol.com.br&utm_source=interna&utm_campaign=rodapé_uol&utm_content=link_fixo&utm_term=para_o_seu_negocio' não foi coletada, a seguinte exceção foi lançada:\n",
      "<class 'UnicodeEncodeError'>: 'ascii' codec can't encode character '\\xe9' in position 65: ordinal not in range(128)\n",
      "A url 'https://www.uolhost.uol.com.br/uol-cloud-computing.html?utm_medium=uol.com.br&utm_source=interna&utm_campaign=rodapé_uol&utm_content=link_fixo&utm_term=cloud_computing' não foi coletada, a seguinte exceção foi lançada:\n",
      "<class 'UnicodeEncodeError'>: 'ascii' codec can't encode character '\\xe9' in position 89: ordinal not in range(128)\n"
     ]
    },
    {
     "name": "stderr",
     "output_type": "stream",
     "text": [
      "\r",
      " 50%|██████████████████████▌                      | 4/8 [02:16<01:44, 26.01s/it]"
     ]
    },
    {
     "name": "stdout",
     "output_type": "stream",
     "text": [
      "1652268164.9862604\n",
      "1652268149.9863777 segundos = 27537802.499772962 minutos\n",
      "1652268164.987824\n",
      "A url 'https://clicklogger.rm.uol.com.br/?prd=32&grp=src:210;chn:0;creative:barrauol;thm:barrauol-pagseguro&msr=Cliques%20de%20Origem:1&oper=11&redir=https://pagseguro.uol.com.br/' não foi coletada, a seguinte exceção foi lançada:\n",
      "<class 'UnicodeDecodeError'>: 'utf-8' codec can't decode byte 0x8b in position 1: invalid start byte\n",
      "A url 'https://chatvendas.uol.com.br/ChatWEB/AbrirTelaCriarChat.do?site=5' não foi coletada, a seguinte exceção foi lançada:\n",
      "<class 'UnicodeDecodeError'>: 'utf-8' codec can't decode byte 0xe9 in position 4355: invalid continuation byte\n",
      "A url 'https://www.redetv.uol.com.br/videos/' não foi coletada, a seguinte exceção foi lançada:\n",
      "<class 'UnicodeDecodeError'>: 'utf-8' codec can't decode byte 0xe7 in position 3384: invalid continuation byte\n",
      "A url 'https://aovivo.folha.uol.com.br/mundo/2022/03/31/6113-acompanhe-as-principais-noticias-sobre-a-guerra-da-ucrania.shtml#post416177' não foi coletada, a seguinte exceção foi lançada:\n",
      "<class 'UnicodeDecodeError'>: 'utf-8' codec can't decode byte 0xfa in position 211: invalid start byte\n",
      "A url 'https://denuncia.uol.com.br/' não foi coletada, a seguinte exceção foi lançada:\n",
      "<class 'urllib.error.URLError'>: <urlopen error [SSL: CERTIFICATE_VERIFY_FAILED] certificate verify failed: unable to get local issuer certificate (_ssl.c:1091)>\n",
      "A url 'https://uolhost.uol.com.br/?utm_medium=uol.com.br&utm_source=interna&utm_campaign=rodapé_uol&utm_content=link_fixo&utm_term=para_o_seu_negocio' não foi coletada, a seguinte exceção foi lançada:\n",
      "<class 'UnicodeEncodeError'>: 'ascii' codec can't encode character '\\xe9' in position 65: ordinal not in range(128)\n",
      "A url 'https://www.uolhost.uol.com.br/uol-cloud-computing.html?utm_medium=uol.com.br&utm_source=interna&utm_campaign=rodapé_uol&utm_content=link_fixo&utm_term=cloud_computing' não foi coletada, a seguinte exceção foi lançada:\n",
      "<class 'UnicodeEncodeError'>: 'ascii' codec can't encode character '\\xe9' in position 89: ordinal not in range(128)\n",
      "A url 'https://downloads.bbc.co.uk/aboutthebbc/reports/reports/modern-slavery-statement-2021.pdf' não foi coletada, a seguinte exceção foi lançada:\n",
      "<class 'UnicodeDecodeError'>: 'utf-8' codec can't decode byte 0xe2 in position 10: invalid continuation byte\n"
     ]
    },
    {
     "name": "stderr",
     "output_type": "stream",
     "text": [
      "\r",
      " 62%|████████████████████████████▏                | 5/8 [02:34<01:09, 23.30s/it]"
     ]
    },
    {
     "name": "stdout",
     "output_type": "stream",
     "text": [
      "1652268183.4757557\n",
      "1652268154.4758637 segundos = 27537802.574597728 minutos\n",
      "1652268183.4769354\n",
      "A url 'https://chatvendas.uol.com.br/ChatWEB/AbrirTelaCriarChat.do?site=5' não foi coletada, a seguinte exceção foi lançada:\n",
      "<class 'UnicodeDecodeError'>: 'utf-8' codec can't decode byte 0xe9 in position 4355: invalid continuation byte\n",
      "A url 'https://www.redetv.uol.com.br/videos/' não foi coletada, a seguinte exceção foi lançada:\n",
      "<class 'UnicodeDecodeError'>: 'utf-8' codec can't decode byte 0xe7 in position 3384: invalid continuation byte\n",
      "A url 'https://clicklogger.rm.uol.com.br/?prd=32&grp=src:210;chn:0;creative:barrauol;thm:barrauol-pagseguro&msr=Cliques%20de%20Origem:1&oper=11&redir=https://pagseguro.uol.com.br/' não foi coletada, a seguinte exceção foi lançada:\n",
      "<class 'UnicodeDecodeError'>: 'utf-8' codec can't decode byte 0x8b in position 1: invalid start byte\n",
      "A url 'https://aovivo.folha.uol.com.br/mundo/2022/03/31/6113-acompanhe-as-principais-noticias-sobre-a-guerra-da-ucrania.shtml#post416177' não foi coletada, a seguinte exceção foi lançada:\n",
      "<class 'UnicodeDecodeError'>: 'utf-8' codec can't decode byte 0xfa in position 211: invalid start byte\n",
      "A url 'https://denuncia.uol.com.br/' não foi coletada, a seguinte exceção foi lançada:\n",
      "<class 'urllib.error.URLError'>: <urlopen error [SSL: CERTIFICATE_VERIFY_FAILED] certificate verify failed: unable to get local issuer certificate (_ssl.c:1091)>\n",
      "A url 'https://uolhost.uol.com.br/?utm_medium=uol.com.br&utm_source=interna&utm_campaign=rodapé_uol&utm_content=link_fixo&utm_term=para_o_seu_negocio' não foi coletada, a seguinte exceção foi lançada:\n",
      "<class 'UnicodeEncodeError'>: 'ascii' codec can't encode character '\\xe9' in position 65: ordinal not in range(128)A url 'https://www.uolhost.uol.com.br/uol-cloud-computing.html?utm_medium=uol.com.br&utm_source=interna&utm_campaign=rodapé_uol&utm_content=link_fixo&utm_term=cloud_computing' não foi coletada, a seguinte exceção foi lançada:\n",
      "<class 'UnicodeEncodeError'>: 'ascii' codec can't encode character '\\xe9' in position 89: ordinal not in range(128)\n",
      "\n",
      "A url 'whatsapp://send?text=%2AAo+vivo+atriz+admite+para+o+atual+marido+que+ainda+sente+falta+do+ex%2A%3A+https%3A%2F%2Fepipoca.com.br%2Fatriz-admite-para-o-atual-marido-que-ainda-sente-falta-do-ex%2F%3Futm_source%3Dwhatsapp%26utm_medium%3Dshare-engagement' não foi coletada, a seguinte exceção foi lançada:\n",
      "<class 'urllib.error.URLError'>: <urlopen error unknown url type: whatsapp>\n",
      "A url 'http://downloads.bbc.co.uk/aboutthebbc/reports/pdf/bbcmsa2020.pdf' não foi coletada, a seguinte exceção foi lançada:\n",
      "<class 'UnicodeDecodeError'>: 'utf-8' codec can't decode byte 0xe2 in position 10: invalid continuation byte\n",
      "A url 'https://click.tvcultura.com.br/?area=Menu&url=http://fpa.com.br' não foi coletada, a seguinte exceção foi lançada:\n",
      "<class 'urllib.error.URLError'>: <urlopen error [SSL: CERTIFICATE_VERIFY_FAILED] certificate verify failed: unable to get local issuer certificate (_ssl.c:1091)>\n",
      "A url 'http://fpa.com.br' não foi coletada, a seguinte exceção foi lançada:\n",
      "<class 'urllib.error.URLError'>: <urlopen error [SSL: CERTIFICATE_VERIFY_FAILED] certificate verify failed: unable to get local issuer certificate (_ssl.c:1091)>\n",
      "A url 'https://uolhost.uol.com.br/crie-seu-blog.html?utm_medium=uol.com.br&utm_source=interna&utm_campaign=rodapé_uol&utm_content=link_fixo&utm_term=crie_seu_blog' não foi coletada, a seguinte exceção foi lançada:\n",
      "<class 'UnicodeEncodeError'>: 'ascii' codec can't encode character '\\xe9' in position 83: ordinal not in range(128)\n",
      "A url 'https://downloads.bbc.co.uk/aboutthebbc/reports/reports/modern-slavery-statement-2021.pdf' não foi coletada, a seguinte exceção foi lançada:\n",
      "<class 'UnicodeDecodeError'>: 'utf-8' codec can't decode byte 0xe2 in position 10: invalid continuation byte\n"
     ]
    },
    {
     "name": "stderr",
     "output_type": "stream",
     "text": [
      "\r",
      " 75%|█████████████████████████████████▊           | 6/8 [02:55<00:45, 22.54s/it]"
     ]
    },
    {
     "name": "stdout",
     "output_type": "stream",
     "text": [
      "1652268204.5405953\n",
      "1652268155.5406866 segundos = 27537802.592344776 minutos\n",
      "1652268204.5427227\n",
      "A url 'https://uolhost.uol.com.br/?utm_medium=uol.com.br&utm_source=interna&utm_campaign=rodapé_uol&utm_content=link_fixo&utm_term=para_o_seu_negocio' não foi coletada, a seguinte exceção foi lançada:\n",
      "<class 'UnicodeEncodeError'>: 'ascii' codec can't encode character '\\xe9' in position 65: ordinal not in range(128)\n",
      "A url 'https://www.uolhost.uol.com.br/uol-cloud-computing.html?utm_medium=uol.com.br&utm_source=interna&utm_campaign=rodapé_uol&utm_content=link_fixo&utm_term=cloud_computing' não foi coletada, a seguinte exceção foi lançada:\n",
      "<class 'UnicodeEncodeError'>: 'ascii' codec can't encode character '\\xe9' in position 89: ordinal not in range(128)\n",
      "A url 'https://denuncia.uol.com.br/' não foi coletada, a seguinte exceção foi lançada:\n",
      "<class 'urllib.error.URLError'>: <urlopen error [SSL: CERTIFICATE_VERIFY_FAILED] certificate verify failed: unable to get local issuer certificate (_ssl.c:1091)>\n",
      "A url 'https://chatvendas.uol.com.br/ChatWEB/AbrirTelaCriarChat.do?site=5' não foi coletada, a seguinte exceção foi lançada:\n",
      "<class 'UnicodeDecodeError'>: 'utf-8' codec can't decode byte 0xe9 in position 4355: invalid continuation byte\n",
      "A url 'https://clicklogger.rm.uol.com.br/?prd=32&grp=src:210;chn:0;creative:barrauol;thm:barrauol-pagseguro&msr=Cliques%20de%20Origem:1&oper=11&redir=https://pagseguro.uol.com.br/' não foi coletada, a seguinte exceção foi lançada:\n",
      "<class 'UnicodeDecodeError'>: 'utf-8' codec can't decode byte 0x8b in position 1: invalid start byte\n",
      "A url 'https://downloads.bbc.co.uk/aboutthebbc/reports/reports/modern-slavery-statement-2021.pdf' não foi coletada, a seguinte exceção foi lançada:\n",
      "<class 'UnicodeDecodeError'>: 'utf-8' codec can't decode byte 0xe2 in position 10: invalid continuation byte\n",
      "A url 'https://pagbank.onelink.me/7YaT?pid=midia-interna&c=20210903_uol_selo_home_cabeca&af_web_dp=https%3A%2F%2Fpagseguro.uol.com.br%2Fconta-digital%2Frendimento&af_dp=psmyaccount%3A%2F%2Fhome' não foi coletada, a seguinte exceção foi lançada:\n",
      "<class 'UnicodeDecodeError'>: 'utf-8' codec can't decode byte 0x8b in position 1: invalid start byte\n",
      "A url 'https://aovivo.folha.uol.com.br/mundo/2022/03/31/6113-acompanhe-as-principais-noticias-sobre-a-guerra-da-ucrania.shtml#post416177' não foi coletada, a seguinte exceção foi lançada:\n",
      "<class 'UnicodeDecodeError'>: 'utf-8' codec can't decode byte 0xfa in position 211: invalid start byte\n",
      "A url 'http://downloads.bbc.co.uk/aboutthebbc/reports/pdf/bbcmsa2020.pdf' não foi coletada, a seguinte exceção foi lançada:\n",
      "<class 'UnicodeDecodeError'>: 'utf-8' codec can't decode byte 0xe2 in position 10: invalid continuation byte\n",
      "A url 'https://www.redetv.uol.com.br/videos/' não foi coletada, a seguinte exceção foi lançada:\n",
      "<class 'UnicodeDecodeError'>: 'utf-8' codec can't decode byte 0xe7 in position 3384: invalid continuation byte\n",
      "A url 'https://click.tvcultura.com.br/?area=Menu&url=http://fpa.com.br' não foi coletada, a seguinte exceção foi lançada:\n",
      "<class 'urllib.error.URLError'>: <urlopen error [SSL: CERTIFICATE_VERIFY_FAILED] certificate verify failed: unable to get local issuer certificate (_ssl.c:1091)>\n",
      "A url 'http://fpa.com.br' não foi coletada, a seguinte exceção foi lançada:\n",
      "<class 'urllib.error.URLError'>: <urlopen error [SSL: CERTIFICATE_VERIFY_FAILED] certificate verify failed: unable to get local issuer certificate (_ssl.c:1091)>\n",
      "A url 'javascript:void(0);' não foi coletada, a seguinte exceção foi lançada:\n",
      "<class 'urllib.error.URLError'>: <urlopen error unknown url type: javascript>\n",
      "A url 'https://uolhost.uol.com.br/crie-seu-blog.html?utm_medium=uol.com.br&utm_source=interna&utm_campaign=rodapé_uol&utm_content=link_fixo&utm_term=crie_seu_blog' não foi coletada, a seguinte exceção foi lançada:\n",
      "<class 'UnicodeEncodeError'>: 'ascii' codec can't encode character '\\xe9' in position 83: ordinal not in range(128)\n"
     ]
    }
   ],
   "source": [
    "for study in tqdm(studies):\n",
    "    start_time = time.time()\n",
    "    print(\"start_time)\n",
    "    scheduler = Scheduler(\"batata-bot\", page_limit=100, depth_limit=6, arr_urls_seeds=[urlparse(seed) for seed in seeds])\n",
    "    n_threads = study[\"n_threads\"]\n",
    "    threads = list()\n",
    "    for t in range(n_threads):\n",
    "        pf = PageFetcher(scheduler)\n",
    "        pf.start()\n",
    "        threads.append(pf)\n",
    "    for thread in threads:\n",
    "        thread.join()\n",
    "    new_time = time.time()\n",
    "    t = new_time - start_time\n",
    "    print(f\"{t} segundos = {t / 60} minutos\")\n",
    "    results.append({\"n_threads\": n_threads, \"time\": t})"
   ]
  },
  {
   "cell_type": "code",
   "execution_count": null,
   "id": "5bdc1bdf",
   "metadata": {},
   "outputs": [],
   "source": [
    "df = pd.DataFrame.from_dict(results)\n",
    "df"
   ]
  },
  {
   "cell_type": "code",
   "execution_count": null,
   "id": "3fb50133",
   "metadata": {},
   "outputs": [],
   "source": [
    "df.to_parquet(\"results.parquet\")"
   ]
  }
 ],
 "metadata": {
  "kernelspec": {
   "display_name": "Python 3 (ipykernel)",
   "language": "python",
   "name": "python3"
  },
  "language_info": {
   "codemirror_mode": {
    "name": "ipython",
    "version": 3
   },
   "file_extension": ".py",
   "mimetype": "text/x-python",
   "name": "python",
   "nbconvert_exporter": "python",
   "pygments_lexer": "ipython3",
   "version": "3.7.13"
  }
 },
 "nbformat": 4,
 "nbformat_minor": 5
}
