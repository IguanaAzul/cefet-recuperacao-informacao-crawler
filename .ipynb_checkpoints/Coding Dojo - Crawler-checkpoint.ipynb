{
 "cells": [
  {
   "cell_type": "markdown",
   "metadata": {},
   "source": [
    "# ☯ Coding Dojo ☯"
   ]
  },
  {
   "cell_type": "markdown",
   "metadata": {},
   "source": [
    "<img style=\"float:left\" src=\"imgs/vamos_coletar.png\">\n",
    "## Regras\n",
    "\n",
    "Ponto de participação, poderá perdido se:\n",
    "\n",
    "    - Aluno atrasado (ver política de atraso na especificação)\n",
    "    - Recusar participação como piloto/copiloto\n",
    "        - Ou não querer sair do computador, quando solicitado :-)\n",
    "    - Demorar para sair quando solicitado\n",
    "    - Parar de participar por:\n",
    "        - Uso de outro computador\n",
    "        - Uso de celular\n",
    "        - Usar a internet\n",
    "        - Conversa\n"
   ]
  },
  {
   "cell_type": "markdown",
   "metadata": {},
   "source": [
    "Antes de entregar, certifique-se que tenha executado todos os comandos/códigos deste Jupyter. É obrigatório que todas as saídas tenham sido apresentadas. Perda de 3 pontos caso não tenham feito isso."
   ]
  },
  {
   "cell_type": "markdown",
   "metadata": {},
   "source": [
    "# Dependencias"
   ]
  },
  {
   "cell_type": "markdown",
   "metadata": {},
   "source": [
    "Se necessário, instale o python e o pip3 abaixo usando `sudo apt-get install python python-pip`.  Execute abaixo para instalar o [BeautifulSoup](https://www.crummy.com/software/BeautifulSoup/). Qualquer linha de comando/código como a de baixo, você pode executá-la a selecionando e pressionando `ctrl+enter` ❣️."
   ]
  },
  {
   "cell_type": "markdown",
   "metadata": {},
   "source": [
    "# Coletor"
   ]
  },
  {
   "cell_type": "markdown",
   "metadata": {},
   "source": [
    "<img src=\"imgs/arquitetura_coletor.png\">"
   ]
  },
  {
   "cell_type": "markdown",
   "metadata": {},
   "source": [
    "Você deverá completar a implementação das três classes abaixo para fazer o coletor: `Domain`, `Scheduler` e `PageFetcher`. Conforme figura acima, o `Scheduler` é responsável por armazenar as filas de URLs a serem requisitadas; o PageFetcher serão *threads* responsáveis por fazer as requisições das URLs obtidas por meio do escalonador (instancia da classe `Scheduler`). A classe `Domain` armazena informações importantes sobre o servidor a serem usadas no momento do escalonamento das URLs."
   ]
  },
  {
   "cell_type": "markdown",
   "metadata": {},
   "source": [
    "## Classe `Domain`"
   ]
  },
  {
   "cell_type": "markdown",
   "metadata": {},
   "source": [
    "<figure style=\"text-align:center\">\n",
    "    <img src=\"imgs/estrutura_coletor.png\">\n",
    "    <caption>Fonte: Baeza-Yates e Ribeiro-Neto, 2011 </caption>\n",
    "</figure>"
   ]
  },
  {
   "cell_type": "markdown",
   "metadata": {},
   "source": [
    "Antes de começar a fazer o escalonador (classe `Scheduler`) devemos implementar a classe que representa os domínios. Conforme visto na figura acima, o escalonador possuirá diversas filas, uma para cada servidor.  Em nosso caso, o servidor será um domínio - que você irá implementar na classe `Domain` do arquivo `domain.py`. \n",
    "\n",
    "O escalonador percorrerá cada servidor e obterá o primeiro da fila do primeiro servidor acessível. O servidor é acessível obdecendo o limite de tempo entre requisições (em segundos, usando o atributo `time_limit_between_requests`). \n",
    "\n",
    "Nesta atividade você irá implementar a classe `Domain`, que já possui os seguintes atributos: \n",
    "\n",
    "- *time_limit_between_requests*: Limite entre requisições (int)\n",
    "- *nam_domain*: Nome do domínio (String)\n",
    "- *time_last_access*: [Objeto Datetime](https://docs.python.org/3/library/datetime.html#datetime-objects) informando da data/hora do último acesso \n",
    "\n",
    "O prefixo da variável sempre irá denotar o tipo da mesma."
   ]
  },
  {
   "cell_type": "markdown",
   "metadata": {},
   "source": [
    "**Atividade 1 - classe `Domain`**: Complete a classe `Domain` implementando os métodos/atributos calculados descritos a seguir. Logo após, execute o ❣️ teste unitário ❣️ para verificar se os métodos/atributos calculados foram implementados conforme esperado.\n",
    "\n",
    "- **accessed_now**: Método que modifica o último acesso com a data/hora atual usando um [objeto datetime](https://docs.python.org/3/library/datetime.html#datetime-objects)\n",
    "- **time_since_last_access**: Atributo calculado que retorna um [objeto TimeDelta](https://docs.python.org/3/library/datetime.html#timedelta-objects) com a diferença da data atual e a data do último acesso. Veja os exemplos de uso do TimeDelta na sua documentação\n",
    "- **is_accessible**: Método que verdadeiro se o domínio estiver acessível"
   ]
  },
  {
   "cell_type": "markdown",
   "metadata": {},
   "source": [
    "Os métodos `count_fetched_page` e `has_finished_crawl` já estão implementados. Execute o teste unitário a seguir. Veja que o comando abaixo executa o teste unitário presente no arquivo `crawler/scheduler_test.py`. Analise-o para entender como implementamos testes unitários."
   ]
  },
  {
   "cell_type": "code",
   "execution_count": 1,
   "metadata": {},
   "outputs": [],
   "source": [
    "from urllib.parse import urlparse, urljoin, ParseResult\n",
    "from crawler import PageFetcher, Scheduler\n",
    "from collections import OrderedDict\n",
    "from crawler.domain import Domain\n",
    "import time"
   ]
  },
  {
   "cell_type": "code",
   "execution_count": 2,
   "metadata": {},
   "outputs": [
    {
     "name": "stdout",
     "output_type": "stream",
     "text": [
      "Verificando acesso a um dominio já requisitado (após espera)\n",
      "aguardando 10 segundos...\n"
     ]
    },
    {
     "name": "stderr",
     "output_type": "stream",
     "text": [
      ".\n",
      "----------------------------------------------------------------------\n",
      "Ran 1 test in 10.002s\n",
      "\n",
      "OK\n"
     ]
    }
   ],
   "source": [
    "!python -m crawler.scheduler_test DomainTest.test_domain"
   ]
  },
  {
   "cell_type": "markdown",
   "metadata": {},
   "source": [
    "**Atividade 2 - métodos `__hash__` e `__eq__` da classe `Domain`**: A fila será implementada por um dicionario ordenado ([OrderedDict](https://docs.python.org/2/library/collections.html#collections.OrderedDict)) em que a chave será um objeto da classe domínio e o valor serão uma lista de URLs. Para que seja possível a busca do domínio, você deverá implementar os métodos `__hash__` e `__eq__` de forma similar ao seguinte exemplo: "
   ]
  },
  {
   "cell_type": "code",
   "execution_count": 3,
   "metadata": {},
   "outputs": [
    {
     "name": "stdout",
     "output_type": "stream",
     "text": [
      "True\n"
     ]
    }
   ],
   "source": [
    "class Xuxu():\n",
    "    def __str__(self):\n",
    "        return \"xuxuuu\"\n",
    "    \n",
    "    def __hash__(self):\n",
    "        return hash(\"xuxu\")\n",
    "    def __eq__(self, x):\n",
    "        return x == \"xuxu\"\n",
    "d = OrderedDict()\n",
    "d[Xuxu()] = 'A'\n",
    "print(\"xuxu\" in d)"
   ]
  },
  {
   "cell_type": "markdown",
   "metadata": {},
   "source": [
    "No nosso caso, deve ser permitido fazer a busca no dicionário pelo nome do domínio ou pelo objeto, ou seja, após a implementação desta atividade, o seguinte código irá funcionar corretamente:"
   ]
  },
  {
   "cell_type": "code",
   "execution_count": 4,
   "metadata": {},
   "outputs": [
    {
     "name": "stdout",
     "output_type": "stream",
     "text": [
      "oi\n",
      "oi\n"
     ]
    }
   ],
   "source": [
    "obj_domain = Domain(\"oi.com\",10)\n",
    "dic_x = OrderedDict()\n",
    "dic_x[obj_domain] = \"lala\"\n",
    "dic_x[\"oi.com\"] = \"oi\"\n",
    "\n",
    "#abaixo, em ambos os casos, será encontrado/impresso a string \"oi\"\n",
    "print(dic_x[\"oi.com\"])\n",
    "print(dic_x[obj_domain])"
   ]
  },
  {
   "cell_type": "markdown",
   "metadata": {},
   "source": [
    "Lembre-se que, em nosso caso, o parametro do método `__eq__` pode ser um objeto da classe `Domain` ou uma string representando o nome do domínio. Caso faça alguma modificação no código, você deverá reiniciar o kernel para que o efeito seja visto no código acima (para reiniciar, clique em Kernel->Restart). Isso ocorre que, uma vez dado import em um módulo, esse modulo não é alterado no Jupyter caso você faça uma modificação no código."
   ]
  },
  {
   "cell_type": "markdown",
   "metadata": {},
   "source": [
    "## Classe `Scheduler`"
   ]
  },
  {
   "cell_type": "markdown",
   "metadata": {},
   "source": [
    "Agora você irá implementar o escalonador. Essa classe será responsável por gerir as URLs.\n",
    "Para isso, será implementado as filas por servidores conforme apresentado na figura da seção anterior.\n",
    "Para isso, utilizaremos um OrderedDict em que as chaves são os servidores (objeto da classe `Domain`) e o valor será uma lista de tuplas com as URLs e sua profundidade. Com o objetivo de armazenar as URLs de forma estruturada, as mesmas **não serão** string, ao invés disso, serão objetos da classe `ParseResult` - essa classe é retornada do método [urlparse](https://docs.python.org/3/library/urllib.parse.html). Veja um exemplo abaixo.\n",
    "\n"
   ]
  },
  {
   "cell_type": "code",
   "execution_count": 5,
   "metadata": {},
   "outputs": [],
   "source": [
    "from crawler.domain import Domain\n",
    "from crawler.scheduler import Scheduler\n",
    "from urllib.parse import urlparse\n",
    "\n",
    "dict_filas_por_servidor = {Domain(\"www.globo.com\",10):[\n",
    "                                                (urlparse(\"http://www.globo.com/esporte\"),1),\n",
    "                                                (urlparse(\"http://www.globo.com/noticia_um\"),2),\n",
    "                                                (urlparse(\"http://www.globo.com/noticia_dois\"),3),\n",
    "                                                (urlparse(\"http://www.globo.com/noticia_tres\"),3),\n",
    "                                                ],\n",
    "                            Domain(\"www.cnpq.br\",10):[(urlparse(\"http://www.cnpq.br/pesquisadores\"),1),\n",
    "                                               (urlparse(\"http://www.cnpq.br/bolsas\"),1)]\n",
    "                          }"
   ]
  },
  {
   "cell_type": "markdown",
   "metadata": {},
   "source": [
    "Assim, a classe `Scheduler`, no arquivo `scheduler.py` possui os seguintes atributos: \n",
    "\n",
    "- `str_usr_agent`: Nome do `User agent`. Usualmente, é o nome do navegador, no nosso caso, será o nome do coletor (usualmente, terminado em `bot`)\n",
    "- `page_limit`: Número de páginas a serem coletadas\n",
    "- `depth_limit`: Profundidade máxima a ser coletada\n",
    "- `page_count`: Quantidade de páginas já coletadas\n",
    "- `dic_url_per_domain`: Fila de URLs por domínio (explicado anteriormente)\n",
    "- `set_discovered_urls`: Conjunto de URLs descobertas, ou seja, que foi extraída em algum HTML e já adicionadas na fila - mesmo se já ela foi retirada da fila. A URL armazenada deve ser uma string.\n",
    "- `dic_robots_per_domain`: Dicionário armazenando, para cada domínio, o objeto representando as regras obtidas no `robots.txt`"
   ]
  },
  {
   "cell_type": "markdown",
   "metadata": {},
   "source": [
    "**Atividad 3 - Método `can_add_page`**: Esse método irá retornar verdadeiro caso seja possível adicionar a página `obj_url` (objeto da classe ParseResult) que foi coletada na profundidade `depth`. Para que seja possível adicionar na lista, esta pagina não deve ter sido descoberta e nem com a profundidade maior que o limite. Este método será testado por teste unitário apenas após a implementação da adição e obtenção das URLs."
   ]
  },
  {
   "cell_type": "markdown",
   "metadata": {},
   "source": [
    "**Atividade 4 método `add_new_page` - Adicionar nova página**:  Este método retorna falso caso não seja possível adicionar a página (por meio do método `can_add_page`) e verdadeiro, caso contrário. Caso seja possível, deve-se adicionar a url `obj_url` na fila `dic_url_per_domain`. Lembre-se da estrutura do dicionário `dic_url_per_domain`. Não esqueça de armazenar que esta URL já foi descoberta. Este método será testado por teste unitário apenas após a implementação da obtenção das URLs. Lembre-se de como trabalhar com [dicionários](https://daniel-hasan.github.io/cefet-web-grad/classes/python2/#mais-colecoes)"
   ]
  },
  {
   "cell_type": "markdown",
   "metadata": {},
   "source": [
    "**Atividade 5 método `get_next_url` - obtém a próxima URL da fila**: Este método retona uma tupla `url,profundade` da próxima URL a ser coletada por meio da fila `dic_url_per_domain` retirando este item da fila. Lembre-se que: \n",
    "    \n",
    "- Ele deverá retornar a primeira URL do primeiro servidor que estiver acessível. \n",
    "- Você deve indicar que o servidor foi acessado \n",
    "- Caso a fila deste servidor esteja vazia, elimine-o do dicionário\n",
    "- Caso não encontre a URL, [coloque a Thread para esperar](https://docs.python.org/2/library/time.html#time.sleep) e, logo após, procure novamente \n",
    "\n",
    "Logo após, você já pode executar o teste unitário para verificar se a obtenção e adição de URLs está correta. Caso haja algum problema, existem já alguns prints comentados no código, descomente-os para verificar se o fluxo está ocorrendo da forma correta. Você deverá entregar sem a exibição desses prints (caso contrário, perderá pontos)."
   ]
  },
  {
   "cell_type": "code",
   "execution_count": 6,
   "metadata": {
    "scrolled": true
   },
   "outputs": [
    {
     "name": "stdout",
     "output_type": "stream",
     "text": [
      "Verificação da ordem das URLs..."
     ]
    },
    {
     "name": "stderr",
     "output_type": "stream",
     "text": [
      ".\n",
      "----------------------------------------------------------------------\n",
      "Ran 1 test in 5.007s\n",
      "\n",
      "OK\n"
     ]
    },
    {
     "name": "stdout",
     "output_type": "stream",
     "text": [
      "\n",
      "Resgatando a segunda página do mesmo dominio...\n",
      "Tempo esperado: 5 segundos\n"
     ]
    }
   ],
   "source": [
    "!python -m crawler.scheduler_test SchedulerTest.test_add_remove_page"
   ]
  },
  {
   "cell_type": "markdown",
   "metadata": {},
   "source": [
    "**Atividade 6 método `can_fetch_page`**: Este método deve retornar verdadeiro caso a url (Objeto `ParseResult`), passada como parâmetro, pode ser coletada de acordo com o `Robots.txt` do domínio. Para isso, você deve usar o [`RobotFileParser`](https://docs.python.org/3/library/urllib.robotparser.html) para requisitar a URL do `robots.txt` deste domínio. Por razões de performance, você só poderá requisitar o robots.txt uma única vez por domínio. Assim, use o `dic_robots_per_domain` apropriadamente. Execute o teste unitário abaixo para verificar seu funcionamento. "
   ]
  },
  {
   "cell_type": "code",
   "execution_count": 7,
   "metadata": {},
   "outputs": [
    {
     "name": "stderr",
     "output_type": "stream",
     "text": [
      ".\n",
      "----------------------------------------------------------------------\n",
      "Ran 1 test in 21.894s\n",
      "\n",
      "OK\n"
     ]
    }
   ],
   "source": [
    "!python -m crawler.scheduler_test SchedulerTest.test_can_fetch"
   ]
  },
  {
   "cell_type": "markdown",
   "metadata": {},
   "source": [
    "**Atividade 7 - Inicialização das sementes no construtor**: No construtor da classe `Scheduler` você deve adicionar as páginas sementes na fila. Tais sementes são passadas pelo parametro `arr_urls_seeds` do construtor. "
   ]
  },
  {
   "cell_type": "code",
   "execution_count": 8,
   "metadata": {},
   "outputs": [
    {
     "name": "stderr",
     "output_type": "stream",
     "text": [
      ".\n",
      "----------------------------------------------------------------------\n",
      "Ran 1 test in 0.000s\n",
      "\n",
      "OK\n"
     ]
    }
   ],
   "source": [
    "!python -m crawler.scheduler_test SchedulerTest.test_init"
   ]
  },
  {
   "cell_type": "markdown",
   "metadata": {},
   "source": [
    "Logo após, utize a anotação @synchronized aonde julgar necessário para transformar em ThreadSafe."
   ]
  },
  {
   "cell_type": "markdown",
   "metadata": {},
   "source": [
    "## PageFetcher"
   ]
  },
  {
   "cell_type": "markdown",
   "metadata": {},
   "source": [
    "**Atividade 8 - Efetuar a requisição - método `request_url`:** Neste método você irá fazer a requisição usando a api [requests](https://requests.readthedocs.io/en/master/). Além disso, deve-se informar no cabeçalho (em `User-Agent`) o nome do coletor. O método deverá retornar o conteúdo (em binário) apenas se o conteúdo for HTML (ver no cabeçalho da resposta o tipo do conteúdo). Caso não seja, ele deverá retornar `None`. "
   ]
  },
  {
   "cell_type": "code",
   "execution_count": 9,
   "metadata": {},
   "outputs": [
    {
     "name": "stderr",
     "output_type": "stream",
     "text": [
      ".\n",
      "----------------------------------------------------------------------\n",
      "Ran 1 test in 1.532s\n",
      "\n",
      "OK\n"
     ]
    }
   ],
   "source": [
    "!python -m crawler.page_fetcher_test PageFetcherTest.test_request_url"
   ]
  },
  {
   "cell_type": "markdown",
   "metadata": {},
   "source": [
    "**Atividade 9 extração das URLs por meio do método `discover_links`**: A partir do conteúdo (texto em binário) `bin_str_content` deve-se extrair seus os links. O conteúdo esta em binário, pois, o BeautifulSoup, internamente, verifica o encoding por meio da [tag meta](https://www.w3schools.com/tags/att_meta_charset.asp) e converte para UTF8. A URL da página coletada é um objeto ParseResult `obj_url` que está na profundidade `depth`. \n",
    "\n",
    "Para cada URL extraída, você deverá retornar uma tupla com a URL (objeto ParseResult) e a sua profundidade. Utilize o comando `yield` para retornar essas tuplas. A profundidade é calculada de por meio de  `obj_url` e `depth`, conforme comentado em sala de aula. \n",
    "\n",
    "Para a extração dos links, use o [CSS Selector do BeautifulSoup](https://www.crummy.com/software/BeautifulSoup/bs4/doc/#css-selectors). Seletor CSS é uma expressão que define quais elementos HTML serão estilizados pelo CSS. No *Beatifulsoup* eles são usados para selecionar quais tags serão extraídas. Veja o exemplo de uso e brinque abaixo. Caso precise, veja aqui um pouco de seletores CSS: [slides de Web](https://fegemo.github.io/cefet-front-end/classes/css2/#outros-seletores), [documentação MDN](https://developer.mozilla.org/en-US/docs/Web/CSS/CSS_Selectors)."
   ]
  },
  {
   "cell_type": "code",
   "execution_count": 10,
   "metadata": {
    "scrolled": true
   },
   "outputs": [
    {
     "name": "stdout",
     "output_type": "stream",
     "text": [
      "Simulação da extração de links da página http://www.pudim.com.br na profundidade nível 2...\n"
     ]
    },
    {
     "name": "stderr",
     "output_type": "stream",
     "text": [
      ".\n",
      "----------------------------------------------------------------------\n",
      "Ran 1 test in 0.002s\n",
      "\n",
      "OK\n"
     ]
    }
   ],
   "source": [
    "!python -m crawler.page_fetcher_test PageFetcherTest.test_discover_links"
   ]
  },
  {
   "cell_type": "markdown",
   "metadata": {},
   "source": [
    "**Atividade 10 - método que solicita uma nova URL**: Por meio do método `crawl_new_url` você deverá utilizar os métodos previamente implementados para:\n",
    "\n",
    "- Solicitar ao escalonador uma nova URL\n",
    "- Fazer a requisição e obter o resultado (em binário)\n",
    "- Caso a URL seja um HTML válido, imprima esta URL e extraia os seus links"
   ]
  },
  {
   "cell_type": "markdown",
   "metadata": {},
   "source": [
    "**Atividade 11 - método run**: Este método deve coletar páginas enquanto a coleta não foi finalizada"
   ]
  },
  {
   "cell_type": "markdown",
   "metadata": {},
   "source": [
    "**Atividade 12 - um pequeno teste para finalizar:** Use as sementes do seu grupo e crie abaixo um escalonador e 5 PageFetchers para extrair 30 páginas. Imprima também o tempo gasto total."
   ]
  },
  {
   "cell_type": "code",
   "execution_count": 2,
   "metadata": {},
   "outputs": [
    {
     "name": "stdout",
     "output_type": "stream",
     "text": [
      "(ParseResult(scheme='https', netloc='www.terra.com.br', path='/', params='', query='', fragment=''), 0)\n",
      "(ParseResult(scheme='https', netloc='www.terra.com.br', path='/', params='', query='', fragment='trr-ctn-general'), 1)\n",
      "(ParseResult(scheme='https', netloc='www.cartacapital.com.br', path='/cartaexpressa/quaest-cai-o-indice-de-brasileiros-que-desconfiam-das-urnas-eletronicas/', params='', query='', fragment=''), 0)\n",
      "(ParseResult(scheme='https', netloc='www.terraempresas.com.br', path='/', params='', query='utm_source=terra%20360&utm_medium=barra%20central&utm_campaign=todos-servicos&utm_term=pos-01&cdConvenio=CVTR00002055', fragment=''), 0)\n",
      "(ParseResult(scheme='https', netloc='www.cartacapital.com.br', path='/', params='', query='', fragment=''), 1)\n",
      "A url 'https://rd1.com.br/regina-duarte-compra-briga-com-video-polemico-e-possivel-o-cristao-votar-em-esquerda/?utm_source=terra_capa&utm_medium=referral' não foi coletada, a seguinte exceção foi lançada:\n",
      "<class 'urllib.error.URLError'>: <urlopen error [SSL: CERTIFICATE_VERIFY_FAILED] certificate verify failed: certificate has expired (_ssl.c:1091)>\n",
      "(ParseResult(scheme='https', netloc='servicos.terra.com.br', path='/cursos-online/promo/super-oferta/', params='', query='utm_source=terra&utm_medium=espaco-fixo&utm_campaign=cursos-online_produto&utm_content=barra-central&utm_term=pos-02&cdConvenio=CVTR00002055', fragment=''), 0)\n",
      "(ParseResult(scheme='https', netloc='www.facebook.com', path='/CartaCapital', params='', query='', fragment=''), 0)\n",
      "(ParseResult(scheme='https', netloc='mail.terra.com.br', path='', params='', query='', fragment=''), 0)\n",
      "(ParseResult(scheme='https', netloc='www.youtube.com', path='/user/RevistaCartaCapital', params='', query='', fragment=''), 0)\n",
      "(ParseResult(scheme='https', netloc='twitter.com', path='/cartacapital', params='', query='', fragment=''), 0)\n",
      "A url 'https://anchor.fm/cartacapital' não foi coletada, a seguinte exceção foi lançada:\n",
      "<class 'urllib.error.URLError'>: <urlopen error [SSL: CERTIFICATE_VERIFY_FAILED] certificate verify failed: certificate has expired (_ssl.c:1091)>\n",
      "A url 'https://api.whatsapp.com/send?text=Quaest: Cai o índice de brasileiros que desconfiam das urnas eletrônicas:  https://www.cartacapital.com.br/cartaexpressa/quaest-cai-o-indice-de-brasileiros-que-desconfiam-das-urnas-eletronicas/' não foi coletada, a seguinte exceção foi lançada:\n",
      "<class 'http.client.InvalidURL'>: URL can't contain control characters. '/send?text=Quaest: Cai o índice de brasileiros que desconfiam das urnas eletrônicas:  https://www.cartacapital.com.br/cartaexpressa/quaest-cai-o-indice-de-brasileiros-que-desconfiam-das-urnas-eletronicas/' (found at least ' ')\n",
      "(ParseResult(scheme='https', netloc='t.me', path='/cartacapitaloficial', params='', query='', fragment=''), 0)\n",
      "(ParseResult(scheme='https', netloc='vm.tiktok.com', path='/ZM8nMfys5/', params='', query='', fragment=''), 0)\n",
      "(ParseResult(scheme='https', netloc='facebook.com', path='/share.php', params='', query='u=https://www.cartacapital.com.br/cartaexpressa/quaest-cai-o-indice-de-brasileiros-que-desconfiam-das-urnas-eletronicas/&t=Quaest%3A+Cai+o+%C3%ADndice+de+brasileiros+que+desconfiam+das+urnas+eletr%C3%B4nicas', fragment=''), 0)\n",
      "A url 'https://assinecarta.com.br/?Site_txt=site_carta&Origem_txt=materias&Formato_txt=Quaest: Cai o índice de brasileiros que desconfiam das urnas eletrônicas&Banner_txt=&Versao_txt=&utm_source=site_carta&utm_medium=materias&utm_campaign=Quaest: Cai o índice de brasileiros que desconfiam das urnas eletrônicas&utm_content=&utm_term=' não foi coletada, a seguinte exceção foi lançada:\n",
      "<class 'http.client.InvalidURL'>: URL can't contain control characters. '/?Site_txt=site_carta&Origem_txt=materias&Formato_txt=Quaest: Cai o índice de brasileiros que desconfiam das urnas eletrônicas&Banner_txt=&Versao_txt=&utm_source=site_carta&utm_medium=materias&utm_campaign=Quaest: Cai o índice de brasileiros que desconfiam das urnas eletrônicas&utm_content=&utm_term=' (found at least ' ')\n",
      "(ParseResult(scheme='https', netloc='www.instagram.com', path='/cartacapital/', params='', query='', fragment=''), 0)\n"
     ]
    },
    {
     "name": "stderr",
     "output_type": "stream",
     "text": [
      "C:\\Users\\Ramon\\anaconda3\\envs\\ri\\lib\\site-packages\\bs4\\builder\\__init__.py:546: XMLParsedAsHTMLWarning: It looks like you're parsing an XML document using an HTML parser. If this really is an HTML document (maybe it's XHTML?), you can ignore or filter this warning. If it's XML, you should know that using an XML parser will be more reliable. To parse this document as XML, make sure you have the lxml package installed, and pass the keyword argument `features=\"xml\"` into the BeautifulSoup constructor.\n",
      "  XMLParsedAsHTMLWarning.MESSAGE, XMLParsedAsHTMLWarning\n"
     ]
    },
    {
     "name": "stdout",
     "output_type": "stream",
     "text": [
      "(ParseResult(scheme='https', netloc='telegram.me', path='/share/url', params='', query='url=https://www.cartacapital.com.br/cartaexpressa/quaest-cai-o-indice-de-brasileiros-que-desconfiam-das-urnas-eletronicas/&text=Quaest%3A+Cai+o+%C3%ADndice+de+brasileiros+que+desconfiam+das+urnas+eletr%C3%B4nicas', fragment=''), 0)\n",
      "(ParseResult(scheme='https', netloc='play.google.com', path='/store/apps/details', params='', query='id=air.com.editoraconfianca.revistacartacapital&hl=pt_BR', fragment=''), 0)\n",
      "(ParseResult(scheme='https', netloc='www.terra.com.br', path='', params='', query='', fragment=''), 1)\n",
      "(ParseResult(scheme='https', netloc='news.google.com', path='/publications/CAAiEOjrHMsMJ_46xsqUP1RpiEcqFAgKIhDo6xzLDCf-OsbKlD9UaYhH', params='', query='ceid=BR:pt-419&oc=3', fragment=''), 0)\n",
      "A url 'https://rd1.com.br/regina-duarte-compra-briga-com-video-polemico-e-possivel-o-cristao-votar-em-esquerda/' não foi coletada, a seguinte exceção foi lançada:\n",
      "<class 'urllib.error.URLError'>: <urlopen error [SSL: CERTIFICATE_VERIFY_FAILED] certificate verify failed: certificate has expired (_ssl.c:1091)>\n",
      "(ParseResult(scheme='https', netloc='apps.apple.com', path='/br/app/revista-cartacapital/id468573252', params='', query='', fragment=''), 0)\n",
      "(ParseResult(scheme='https', netloc='www.terraempresas.com.br', path='/loja-virtual/', params='', query='utm_source=terra&utm_medium=espaco-fixo&utm_campaign=loja-virtual_produto&utm_content=barra-central&utm_term=pos-01&cdConvenio=CVTR00002055', fragment=''), 0)\n",
      "(ParseResult(scheme='https', netloc='servicos.terra.com.br', path='/curso-de-ingles/', params='', query='utm_source=terra&utm_medium=espaco-fixo&utm_campaign=curso-de-ingles_produto&utm_content=barra-central&utm_term=pos-04&cdConvenio=CVTR00002055', fragment=''), 0)\n",
      "A url 'javascript:;' não foi coletada, a seguinte exceção foi lançada:\n",
      "<class 'urllib.error.URLError'>: <urlopen error unknown url type: javascript>\n",
      "(ParseResult(scheme='https', netloc='twitter.com', path='/intent/tweet', params='', query='text=Quaest: Cai o índice de brasileiros que desconfiam das urnas eletrônicas&url=https://www.cartacapital.com.br/cartaexpressa/quaest-cai-o-indice-de-brasileiros-que-desconfiam-das-urnas-eletronicas/', fragment=''), 0)\n",
      "(ParseResult(scheme='https', netloc='www.cartacapital.com.br', path='/revistas', params='', query='', fragment=''), 1)\n"
     ]
    },
    {
     "name": "stderr",
     "output_type": "stream",
     "text": [
      "Exception in thread Thread-6:\n",
      "Traceback (most recent call last):\n",
      "  File \"C:\\Users\\Ramon\\anaconda3\\envs\\ri\\lib\\site-packages\\urllib3\\connectionpool.py\", line 710, in urlopen\n",
      "    chunked=chunked,\n",
      "  File \"C:\\Users\\Ramon\\anaconda3\\envs\\ri\\lib\\site-packages\\urllib3\\connectionpool.py\", line 386, in _make_request\n",
      "    self._validate_conn(conn)\n",
      "  File \"C:\\Users\\Ramon\\anaconda3\\envs\\ri\\lib\\site-packages\\urllib3\\connectionpool.py\", line 1040, in _validate_conn\n",
      "    conn.connect()\n",
      "  File \"C:\\Users\\Ramon\\anaconda3\\envs\\ri\\lib\\site-packages\\urllib3\\connection.py\", line 424, in connect\n",
      "    tls_in_tls=tls_in_tls,\n",
      "  File \"C:\\Users\\Ramon\\anaconda3\\envs\\ri\\lib\\site-packages\\urllib3\\util\\ssl_.py\", line 450, in ssl_wrap_socket\n",
      "    sock, context, tls_in_tls, server_hostname=server_hostname\n",
      "  File \"C:\\Users\\Ramon\\anaconda3\\envs\\ri\\lib\\site-packages\\urllib3\\util\\ssl_.py\", line 493, in _ssl_wrap_socket_impl\n",
      "    return ssl_context.wrap_socket(sock, server_hostname=server_hostname)\n",
      "  File \"C:\\Users\\Ramon\\anaconda3\\envs\\ri\\lib\\ssl.py\", line 423, in wrap_socket\n",
      "    session=session\n",
      "  File \"C:\\Users\\Ramon\\anaconda3\\envs\\ri\\lib\\ssl.py\", line 870, in _create\n",
      "    self.do_handshake()\n",
      "  File \"C:\\Users\\Ramon\\anaconda3\\envs\\ri\\lib\\ssl.py\", line 1139, in do_handshake\n",
      "    self._sslobj.do_handshake()\n",
      "ssl.SSLCertVerificationError: [SSL: CERTIFICATE_VERIFY_FAILED] certificate verify failed: unable to get local issuer certificate (_ssl.c:1091)\n",
      "\n",
      "During handling of the above exception, another exception occurred:\n",
      "\n",
      "Traceback (most recent call last):\n",
      "  File \"C:\\Users\\Ramon\\anaconda3\\envs\\ri\\lib\\site-packages\\requests\\adapters.py\", line 450, in send\n",
      "    timeout=timeout\n",
      "  File \"C:\\Users\\Ramon\\anaconda3\\envs\\ri\\lib\\site-packages\\urllib3\\connectionpool.py\", line 786, in urlopen\n",
      "    method, url, error=e, _pool=self, _stacktrace=sys.exc_info()[2]\n",
      "  File \"C:\\Users\\Ramon\\anaconda3\\envs\\ri\\lib\\site-packages\\urllib3\\util\\retry.py\", line 592, in increment\n",
      "    raise MaxRetryError(_pool, url, error or ResponseError(cause))\n",
      "urllib3.exceptions.MaxRetryError: HTTPSConnectionPool(host='okngroup.com.br', port=443): Max retries exceeded with url: / (Caused by SSLError(SSLCertVerificationError(1, '[SSL: CERTIFICATE_VERIFY_FAILED] certificate verify failed: unable to get local issuer certificate (_ssl.c:1091)')))\n",
      "\n",
      "During handling of the above exception, another exception occurred:\n",
      "\n",
      "Traceback (most recent call last):\n",
      "  File \"C:\\Users\\Ramon\\anaconda3\\envs\\ri\\lib\\threading.py\", line 926, in _bootstrap_inner\n",
      "    self.run()\n",
      "  File \"G:\\Meus Arquivos\\Conhecimento\\CEFET\\Recuperação de Informação\\cefet-ri-crawler-master\\crawler\\page_fetcher.py\", line 63, in run\n",
      "    self.crawl_new_url()\n",
      "  File \"G:\\Meus Arquivos\\Conhecimento\\CEFET\\Recuperação de Informação\\cefet-ri-crawler-master\\crawler\\page_fetcher.py\", line 52, in crawl_new_url\n",
      "    response = self.request_url(obj_url[0])\n",
      "  File \"G:\\Meus Arquivos\\Conhecimento\\CEFET\\Recuperação de Informação\\cefet-ri-crawler-master\\crawler\\page_fetcher.py\", line 23, in request_url\n",
      "    response = requests.get(obj_url.geturl(), headers={'User-Agent': self.USER_AGENT})\n",
      "  File \"C:\\Users\\Ramon\\anaconda3\\envs\\ri\\lib\\site-packages\\requests\\api.py\", line 75, in get\n",
      "    return request('get', url, params=params, **kwargs)\n",
      "  File \"C:\\Users\\Ramon\\anaconda3\\envs\\ri\\lib\\site-packages\\requests\\api.py\", line 61, in request\n",
      "    return session.request(method=method, url=url, **kwargs)\n",
      "  File \"C:\\Users\\Ramon\\anaconda3\\envs\\ri\\lib\\site-packages\\requests\\sessions.py\", line 529, in request\n",
      "    resp = self.send(prep, **send_kwargs)\n",
      "  File \"C:\\Users\\Ramon\\anaconda3\\envs\\ri\\lib\\site-packages\\requests\\sessions.py\", line 645, in send\n",
      "    r = adapter.send(request, **kwargs)\n",
      "  File \"C:\\Users\\Ramon\\anaconda3\\envs\\ri\\lib\\site-packages\\requests\\adapters.py\", line 517, in send\n",
      "    raise SSLError(e, request=request)\n",
      "requests.exceptions.SSLError: HTTPSConnectionPool(host='okngroup.com.br', port=443): Max retries exceeded with url: / (Caused by SSLError(SSLCertVerificationError(1, '[SSL: CERTIFICATE_VERIFY_FAILED] certificate verify failed: unable to get local issuer certificate (_ssl.c:1091)')))\n",
      "\n"
     ]
    },
    {
     "name": "stdout",
     "output_type": "stream",
     "text": [
      "(ParseResult(scheme='https', netloc='duvidas.terra.com.br', path='/', params='', query='', fragment=''), 0)\n",
      "(ParseResult(scheme='https', netloc='appstore.vivo.com.br', path='/sc/br/vivostore/detalle/atma-meditacao/57239/', params='', query='utm_source=terra&utm_medium=espaco-fixo&utm_campaign=atma_produto&utm_content=capa_terraempresas&utm_term=pos-13', fragment=''), 0)\n",
      "A url 'https://www.vidav.com.br/?utm_source=terra&utm_medium=espaco-fixo&utm_campaign=vida-v_home&utm_content=capa_terraempresas&utm_term=pos-14' não foi coletada, a seguinte exceção foi lançada:\n",
      "<class 'urllib.error.URLError'>: <urlopen error [SSL: CERTIFICATE_VERIFY_FAILED] certificate verify failed: unable to get local issuer certificate (_ssl.c:1091)>\n",
      "A url 'https://rd1.com.br/filho-de-felipe-simas-sofre-ataque-de-cao-e-ator-desabafa-sangue-e-lagrimas/?utm_source=terra_capa&utm_medium=referral' não foi coletada, a seguinte exceção foi lançada:\n",
      "<class 'urllib.error.URLError'>: <urlopen error [SSL: CERTIFICATE_VERIFY_FAILED] certificate verify failed: certificate has expired (_ssl.c:1091)>\n",
      "(ParseResult(scheme='https', netloc='www.terra.com.br', path='/esportes/futebol/brasileiro-serie-b/ao-vivo/criciuma-x-crb/72003/', params='', query='', fragment=''), 1)\n",
      "(ParseResult(scheme='https', netloc='servicos.terra.com.br', path='/mail-gigante/', params='', query='utm_source=terra&utm_medium=espaco-fixo&utm_campaign=mail-gigante_produto&utm_content=barra-central&utm_term=pos-05&cdConvenio=CVTR00002055', fragment=''), 0)\n",
      "(ParseResult(scheme='https', netloc='www.terraempresas.com.br', path='/terra-ads/', params='', query='utm_source=terra&utm_medium=espaco-fixo&utm_campaign=terra-ads_produto&utm_content=barra-central&utm_term=pos-06&cdConvenio=CVTR00002055', fragment=''), 0)\n",
      "(ParseResult(scheme='https', netloc='www.cartacapital.com.br', path='/acesso', params='', query='', fragment=''), 1)\n",
      "(ParseResult(scheme='https', netloc='twitter.com', path='/cartacapital', params='', query='', fragment='timeline'), 1)\n",
      "(ParseResult(scheme='https', netloc='terraempresas.com.br', path='/construtor-sites/promo/oferta-especial/', params='', query='utm_source=terra&utm_medium=espaco-fixo&utm_campaign=construtor-de-sites_lp&utm_content=barra-central&utm_term=pos-03&cdConvenio=CVTR00002055', fragment=''), 0)\n",
      "(ParseResult(scheme='https', netloc='www.terrafibra.com.br', path='', params='', query='', fragment=''), 0)\n",
      "<module 'time' (built-in)> segundos\n"
     ]
    }
   ],
   "source": [
    "t = time.time()\n",
    "scheduler = Scheduler(\"batata-bot\", page_limit=30, depth_limit=3, arr_urls_seeds=[urlparse(\"https://www.terra.com.br/\")])\n",
    "n_threads = 5\n",
    "threads = list()\n",
    "for t in range(n_threads):\n",
    "    pf = PageFetcher(scheduler)\n",
    "    pf.start()\n",
    "    threads.append(pf)\n",
    "for thread in threads:\n",
    "    thread.join()\n",
    "t -= time.time()\n",
    "print(f\"{time} segundos\")"
   ]
  },
  {
   "cell_type": "markdown",
   "metadata": {},
   "source": [
    "# Bibliografia\n",
    "\n",
    "Baeza-Yates, Ricardo; Ribeiro-Neto, Berthier. **Modern information retrieval: the concepts and technology behind search**. ACM Press, 2011.\n",
    "\n",
    "Batista, Natércia ; Brandão, Michele ; Pinheiro, Michele ; Dalip, Daniel ; Moro, Mirella . **[Dados de Múltiplas Fontes da Web: coleta, integração e pré-processamento](https://sol.sbc.org.br/livros/index.php/sbc/catalog/download/8/19/58-1?inline=1)**. Minicursos do XXIV Simpósio Brasileiro de Sistemas Multimídia e Web. 1ed.: Sociedade Brasileira de Computação, 2018, v. , p. 153-192."
   ]
  }
 ],
 "metadata": {
  "kernelspec": {
   "display_name": "Python 3 (ipykernel)",
   "language": "python",
   "name": "python3"
  },
  "language_info": {
   "codemirror_mode": {
    "name": "ipython",
    "version": 3
   },
   "file_extension": ".py",
   "mimetype": "text/x-python",
   "name": "python",
   "nbconvert_exporter": "python",
   "pygments_lexer": "ipython3",
   "version": "3.7.13"
  }
 },
 "nbformat": 4,
 "nbformat_minor": 2
}
